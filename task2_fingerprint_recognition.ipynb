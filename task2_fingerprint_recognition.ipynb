{
  "nbformat": 4,
  "nbformat_minor": 0,
  "metadata": {
    "colab": {
      "provenance": []
    },
    "kernelspec": {
      "name": "python3",
      "display_name": "Python 3"
    },
    "language_info": {
      "name": "python"
    },
    "gpuClass": "standard",
    "accelerator": "GPU"
  },
  "cells": [
    {
      "cell_type": "markdown",
      "source": [
        "## Import Libraries"
      ],
      "metadata": {
        "id": "_8HddTR7UdwG"
      }
    },
    {
      "cell_type": "code",
      "source": [
        "import os\n",
        "\n",
        "import pandas as pd\n",
        "import numpy as np\n",
        "import matplotlib.pyplot as plt\n",
        "\n",
        "import tensorflow as tf\n",
        "from tensorflow import keras\n",
        "from keras import layers\n",
        "from tensorflow.keras.utils import image_dataset_from_directory"
      ],
      "metadata": {
        "id": "whhRv_o0UWVq"
      },
      "execution_count": 1,
      "outputs": []
    },
    {
      "cell_type": "markdown",
      "source": [
        "## Let's import data from google drive"
      ],
      "metadata": {
        "id": "8vCE8BOyUUpO"
      }
    },
    {
      "cell_type": "markdown",
      "source": [
        "### You can find the zip file in [link](https://drive.google.com/file/d/1kCosTCBz4ArgNQS2hnq1zASCFFccW00V/view?usp=share_link)"
      ],
      "metadata": {
        "id": "h_MIGOLKwm94"
      }
    },
    {
      "cell_type": "code",
      "source": [
        "from google.colab import drive\n",
        "drive.mount('/content/drive')"
      ],
      "metadata": {
        "colab": {
          "base_uri": "https://localhost:8080/"
        },
        "id": "47roku1RXMj3",
        "outputId": "eb4bb63d-47aa-4939-dabb-0f3be0fadec8"
      },
      "execution_count": 2,
      "outputs": [
        {
          "output_type": "stream",
          "name": "stdout",
          "text": [
            "Mounted at /content/drive\n"
          ]
        }
      ]
    },
    {
      "cell_type": "code",
      "source": [
        "file_path = '/content/drive/MyDrive/shared folder/task_2.zip'\n",
        "!cp '{file_path}' ."
      ],
      "metadata": {
        "id": "ibhZAbn8XZWU"
      },
      "execution_count": 3,
      "outputs": []
    },
    {
      "cell_type": "markdown",
      "source": [
        "## Let's unzip task_2.zip file"
      ],
      "metadata": {
        "id": "5v_e0xJ-n5C2"
      }
    },
    {
      "cell_type": "code",
      "source": [
        "!unzip task_2.zip\n",
        "!rm task_2.zip -rf\n",
        "!unzip train.zip\n",
        "!rm train.zip -rf\n",
        "!unzip test.zip\n",
        "!rm test.zip -rf\n",
        "!mv content/test .\n",
        "!rm content -rf\n",
        "\n",
        "# now we should have test and train folder, with lots of images"
      ],
      "metadata": {
        "id": "OL3HFHO1VA7y"
      },
      "execution_count": null,
      "outputs": []
    },
    {
      "cell_type": "markdown",
      "source": [
        "After above code your directory structure should be like this:\n",
        "```bash\n",
        "/\n",
        "├── fingerprint_recognition.ipynb\n",
        "├── test/\n",
        "│   ├── image_1.jpg\n",
        "│   ├── image_2.jpg\n",
        "│   ├── ...\n",
        "│   └── image_n.jpg\n",
        "└── train/\n",
        "    ├── image_1.jpg\n",
        "    ├── image_2.jpg\n",
        "    ├── ...\n",
        "    └── image_n.jpg\n",
        "```"
      ],
      "metadata": {
        "id": "iaaA6BYJ4UYF"
      }
    },
    {
      "cell_type": "markdown",
      "source": [
        "## Distribute images according to their labels to different files\n",
        "\n",
        "Needed from image_dataset_from_directory()"
      ],
      "metadata": {
        "id": "4z6Qb9X9nA6T"
      }
    },
    {
      "cell_type": "code",
      "source": [
        "import shutil\n",
        "\n",
        "def import_files(dir='train'):\n",
        "  if dir != 'train' and dir != 'test':\n",
        "    print('W:import_files(dir): dir should be either train or test')\n",
        "    return\n",
        "\n",
        "  root = 'data'\n",
        "  if not os.path.exists(root):\n",
        "    os.makedirs(root)\n",
        "  new_train = f'data/{dir}'\n",
        "  for filename in os.listdir(dir):\n",
        "    id, target = filename.split('_')\n",
        "    target = int(target.split('.')[0])\n",
        "\n",
        "    dir_path = f'{new_train}/{target}'\n",
        "    if not os.path.exists(dir_path):\n",
        "      os.makedirs(dir_path)\n",
        "\n",
        "    bmp = filename.endswith('.bmp')\n",
        "    src_file = f'{dir}/{filename}'\n",
        "    dest_file = f'{dir_path}/{filename}' + ('' if bmp else '.bmp')\n",
        "\n",
        "    shutil.copy(src_file, dest_file)\n"
      ],
      "metadata": {
        "id": "yhWURdFt7j7w"
      },
      "execution_count": 5,
      "outputs": []
    },
    {
      "cell_type": "markdown",
      "source": [
        "### Import train and test files"
      ],
      "metadata": {
        "id": "lS0U0iDur1wm"
      }
    },
    {
      "cell_type": "code",
      "source": [
        "import_files('train')\n",
        "import_files('test')"
      ],
      "metadata": {
        "id": "7crlPKoylYcG"
      },
      "execution_count": 6,
      "outputs": []
    },
    {
      "cell_type": "markdown",
      "source": [
        "After distribution you should have directory structure like this:\n",
        "```bash\n",
        "/\n",
        "├── fingerprint_recognition.ipynb\n",
        "└── data/\n",
        "    ├── train/\n",
        "    │   ├── 0/\n",
        "    │   │   ├── image_1.jpg\n",
        "    │   │   ├── ...\n",
        "    │   │   └── image_n.jpg\n",
        "    │   ├── 1/\n",
        "    │   │   ├── image_1.jpg\n",
        "    │   │   ├── ...\n",
        "    │   │   └── image_n.jpg\n",
        "    │   ├── 2/\n",
        "    │   ├── ...\n",
        "    │   └── 9/\n",
        "    │   │   ├── image_1.jpg\n",
        "    │   │   ├── ...\n",
        "    │   │   └── image_n.jpg\n",
        "    ├── test/\n",
        "    │   ├── 0/\n",
        "    │   │   ├── image_1.jpg\n",
        "    │   │   ├── ...\n",
        "    │   │   └── image_n.jpg\n",
        "    │   ├── 1/\n",
        "    │   │   ├── image_1.jpg\n",
        "    │   │   ├── ...\n",
        "    │   │   └── image_n.jpg\n",
        "    │   ├── 2/\n",
        "    │   ├── ...\n",
        "    │   └── 9/\n",
        "    │   │   ├── image_1.jpg\n",
        "    │   │   ├── ...\n",
        "    │   │   └── image_n.jpg\n",
        "    └── ...\n",
        "```"
      ],
      "metadata": {
        "id": "dOumad1L4xix"
      }
    },
    {
      "cell_type": "markdown",
      "source": [
        "## Let see if we have balanced dataset"
      ],
      "metadata": {
        "id": "PQTOxHwz3SUa"
      }
    },
    {
      "cell_type": "code",
      "source": [
        "def plot_hist_classes(dir):\n",
        "\n",
        "  n_samples = np.zeros(10)\n",
        "  for class_dir in os.listdir(dir):\n",
        "    if not os.path.isdir(os.path.join(dir, class_dir)):\n",
        "      print('E:plot_hist_classes(dir): expected to find in `dir` only directories')\n",
        "      return\n",
        "    num_files = len([f for f in os.listdir(os.path.join(dir, class_dir))])\n",
        "\n",
        "    n_samples[int(class_dir)] = num_files\n",
        "\n",
        "  plt.bar(range(len(n_samples)), n_samples)\n",
        "\n",
        "\n",
        "plt.figure(figsize=(12, 6))\n",
        "plt.subplot(1, 2, 1)\n",
        "plt.title('Train Hist')\n",
        "plt.xlabel('classes')\n",
        "plt.ylabel('# images')\n",
        "plot_hist_classes('data/train')\n",
        "\n",
        "plt.subplot(1, 2, 2)\n",
        "plt.title('Test Hist')\n",
        "plt.xlabel('classes')\n",
        "plt.ylabel('# images')\n",
        "plot_hist_classes('data/test')\n",
        "plt.show()"
      ],
      "metadata": {
        "colab": {
          "base_uri": "https://localhost:8080/",
          "height": 554
        },
        "id": "uCvuIZUr3Vim",
        "outputId": "47d24305-902b-4a4e-a099-8fa7d9a3800f"
      },
      "execution_count": 7,
      "outputs": [
        {
          "output_type": "display_data",
          "data": {
            "text/plain": [
              "<Figure size 1200x600 with 2 Axes>"
            ],
            "image/png": "[encoded data removed]"
          },
          "metadata": {}
        }
      ]
    },
    {
      "cell_type": "markdown",
      "source": [
        "### Okay, our dataset is more or less balanced, which is good"
      ],
      "metadata": {
        "id": "gHD5TdJU5R1C"
      }
    },
    {
      "cell_type": "markdown",
      "source": [
        "## Create train and test Datasets"
      ],
      "metadata": {
        "id": "yz855M8Pr7Uq"
      }
    },
    {
      "cell_type": "code",
      "source": [
        "batch_size = 512\n",
        "img_size = (103, 96)\n",
        "\n",
        "train_dir = 'data/train'\n",
        "train_dataset = image_dataset_from_directory(\n",
        "    train_dir,\n",
        "    labels='inferred',\n",
        "    label_mode='int',\n",
        "    color_mode='rgb',\n",
        "    batch_size=batch_size,\n",
        "    image_size=img_size,\n",
        ")\n",
        "\n",
        "test_dir = 'data/test'\n",
        "test_dataset = image_dataset_from_directory(\n",
        "    test_dir,\n",
        "    labels='inferred',\n",
        "    label_mode='int',\n",
        "    color_mode='rgb',\n",
        "    batch_size=batch_size,\n",
        "    image_size=img_size,\n",
        ")\n"
      ],
      "metadata": {
        "id": "XnDDU2FqqV72",
        "colab": {
          "base_uri": "https://localhost:8080/"
        },
        "outputId": "837cb1a5-3475-4f28-f53e-bdf2ca93dc4d"
      },
      "execution_count": 8,
      "outputs": [
        {
          "output_type": "stream",
          "name": "stdout",
          "text": [
            "Found 19413 files belonging to 10 classes.\n",
            "Found 14272 files belonging to 10 classes.\n"
          ]
        }
      ]
    },
    {
      "cell_type": "markdown",
      "source": [
        "## Create preprocessing layer"
      ],
      "metadata": {
        "id": "f3IKJP7BsBJB"
      }
    },
    {
      "cell_type": "code",
      "source": [
        "new_img_size = (90, 90)\n",
        "preprocessing = keras.Sequential([\n",
        "    layers.Input((img_size[0], img_size[1], 3)),\n",
        "    layers.Resizing(new_img_size[0], new_img_size[1]),\n",
        "    layers.RandomBrightness(0.2),\n",
        "    layers.RandomRotation(0.2),\n",
        "    layers.Rescaling(1./255),\n",
        "])\n",
        "\n",
        "classes = 10"
      ],
      "metadata": {
        "id": "TktdzRaVsJqz"
      },
      "execution_count": 9,
      "outputs": []
    },
    {
      "cell_type": "markdown",
      "source": [
        "## Define the model architecture\n",
        "\n",
        "[This](https://arxiv.org/pdf/1409.1556.pdf) research paper provides good architerture for IMAGE RECOGNITION.\n",
        "\n"
      ],
      "metadata": {
        "id": "Nqiw6QwFucO1"
      }
    },
    {
      "cell_type": "code",
      "source": [
        "model = keras.Sequential([\n",
        "  preprocessing,\n",
        "\n",
        "  layers.Conv2D(64, kernel_size=(3, 3), activation='relu'),\n",
        "  layers.MaxPool2D(pool_size=(2,2),strides=(2,2)),\n",
        "  \n",
        "  layers.Conv2D(128, kernel_size=(3, 3), activation='relu'),\n",
        "  layers.MaxPool2D(pool_size=(2, 2) ,strides=(2, 2)),\n",
        "  \n",
        "  layers.Conv2D(256, kernel_size=(3, 3), activation='relu'),\n",
        "  layers.Conv2D(256, kernel_size=(3, 3), activation='relu'),\n",
        "  layers.MaxPool2D(pool_size=(2, 2), strides=(2, 2)),\n",
        "  layers.Dropout(0.2),\n",
        "\n",
        "  layers.Conv2D(512, kernel_size=(3, 3), activation='relu'),\n",
        "  layers.Conv2D(512, kernel_size=(3, 3), activation='relu'),\n",
        "  layers.MaxPool2D(pool_size=(2, 2), strides=(2, 2)),\n",
        "  layers.Dropout(0.2),\n",
        "\n",
        "  layers.Flatten(),\n",
        "  layers.Dense(4096, activation='relu'),\n",
        "  layers.Dropout(0.2),\n",
        "  layers.Dense(4096, activation='relu'),\n",
        "  layers.Dropout(0.2),\n",
        "  layers.Dense(classes, activation='softmax'),\n",
        "])"
      ],
      "metadata": {
        "id": "G6Ed_rwCuhF6"
      },
      "execution_count": 10,
      "outputs": []
    },
    {
      "cell_type": "code",
      "source": [
        "model.build((None, img_size[0], img_size[1], 3))"
      ],
      "metadata": {
        "id": "4MpQofrF9mBq"
      },
      "execution_count": 11,
      "outputs": []
    },
    {
      "cell_type": "code",
      "source": [
        "model.summary()"
      ],
      "metadata": {
        "colab": {
          "base_uri": "https://localhost:8080/"
        },
        "id": "ypoMEb9bClnR",
        "outputId": "701a3f46-90ef-410f-9787-8fc1993fd433"
      },
      "execution_count": 12,
      "outputs": [
        {
          "output_type": "stream",
          "name": "stdout",
          "text": [
            "Model: \"sequential_1\"\n",
            "_________________________________________________________________\n",
            " Layer (type)                Output Shape              Param #   \n",
            "=================================================================\n",
            " sequential (Sequential)     (None, 90, 90, 3)         0         \n",
            "                                                                 \n",
            " conv2d (Conv2D)             (None, 88, 88, 64)        1792      \n",
            "                                                                 \n",
            " max_pooling2d (MaxPooling2D  (None, 44, 44, 64)       0         \n",
            " )                                                               \n",
            "                                                                 \n",
            " conv2d_1 (Conv2D)           (None, 42, 42, 128)       73856     \n",
            "                                                                 \n",
            " max_pooling2d_1 (MaxPooling  (None, 21, 21, 128)      0         \n",
            " 2D)                                                             \n",
            "                                                                 \n",
            " conv2d_2 (Conv2D)           (None, 19, 19, 256)       295168    \n",
            "                                                                 \n",
            " conv2d_3 (Conv2D)           (None, 17, 17, 256)       590080    \n",
            "                                                                 \n",
            " max_pooling2d_2 (MaxPooling  (None, 8, 8, 256)        0         \n",
            " 2D)                                                             \n",
            "                                                                 \n",
            " dropout (Dropout)           (None, 8, 8, 256)         0         \n",
            "                                                                 \n",
            " conv2d_4 (Conv2D)           (None, 6, 6, 512)         1180160   \n",
            "                                                                 \n",
            " conv2d_5 (Conv2D)           (None, 4, 4, 512)         2359808   \n",
            "                                                                 \n",
            " max_pooling2d_3 (MaxPooling  (None, 2, 2, 512)        0         \n",
            " 2D)                                                             \n",
            "                                                                 \n",
            " dropout_1 (Dropout)         (None, 2, 2, 512)         0         \n",
            "                                                                 \n",
            " flatten (Flatten)           (None, 2048)              0         \n",
            "                                                                 \n",
            " dense (Dense)               (None, 4096)              8392704   \n",
            "                                                                 \n",
            " dropout_2 (Dropout)         (None, 4096)              0         \n",
            "                                                                 \n",
            " dense_1 (Dense)             (None, 4096)              16781312  \n",
            "                                                                 \n",
            " dropout_3 (Dropout)         (None, 4096)              0         \n",
            "                                                                 \n",
            " dense_2 (Dense)             (None, 10)                40970     \n",
            "                                                                 \n",
            "=================================================================\n",
            "Total params: 29,715,850\n",
            "Trainable params: 29,715,850\n",
            "Non-trainable params: 0\n",
            "_________________________________________________________________\n"
          ]
        }
      ]
    },
    {
      "cell_type": "markdown",
      "source": [
        "## Compile the model"
      ],
      "metadata": {
        "id": "TCuMMUxNxSqB"
      }
    },
    {
      "cell_type": "code",
      "source": [
        "learning_rate = 0.01\n",
        "momentum = 0.8\n",
        "epochs = 1024\n",
        "\n",
        "optimizer = keras.optimizers.SGD(learning_rate=learning_rate, momentum=momentum)\n",
        "loss = keras.losses.sparse_categorical_crossentropy\n",
        "metrics=['accuracy']\n",
        "\n",
        "model.compile(\n",
        "    optimizer=optimizer,\n",
        "    loss=loss,\n",
        "    metrics=metrics\n",
        ")"
      ],
      "metadata": {
        "id": "vdBkDQIAxJfH"
      },
      "execution_count": 13,
      "outputs": []
    },
    {
      "cell_type": "markdown",
      "source": [
        "## Create Callbacks\n"
      ],
      "metadata": {
        "id": "uNG51OFExszV"
      }
    },
    {
      "cell_type": "code",
      "source": [
        "from keras.callbacks import ModelCheckpoint, EarlyStopping\n",
        "\n",
        "checkpoint = keras.callbacks.ModelCheckpoint(\n",
        "    \"vgg16_1.h5\",\n",
        "    monitor='val_loss',\n",
        "    verbose=1,\n",
        "    save_best_only=True,\n",
        "    save_weights_only=False,\n",
        "    mode='auto',\n",
        "    save_freq='epoch'\n",
        ")\n",
        "\n",
        "\n",
        "early = keras.callbacks.EarlyStopping(\n",
        "    monitor='val_loss',\n",
        "    restore_best_weights=True,\n",
        "    min_delta=0,\n",
        "    patience=20,\n",
        "    verbose=1,\n",
        "    mode='auto'\n",
        ")"
      ],
      "metadata": {
        "id": "tqLMHStGxxZX"
      },
      "execution_count": 14,
      "outputs": []
    },
    {
      "cell_type": "markdown",
      "source": [
        "## Fit the model"
      ],
      "metadata": {
        "id": "K1uGZRXWyA29"
      }
    },
    {
      "cell_type": "code",
      "source": [
        "history = model.fit(\n",
        "    train_dataset,\n",
        "    epochs=epochs,\n",
        "    batch_size=batch_size,\n",
        "    validation_data=test_dataset,\n",
        "    callbacks=[checkpoint, early],\n",
        "    use_multiprocessing=True,\n",
        "    workers=2,\n",
        ")"
      ],
      "metadata": {
        "id": "F1Zv1vnIyBLJ",
        "colab": {
          "base_uri": "https://localhost:8080/"
        },
        "outputId": "3ea9c461-0b48-47ee-eb08-a450ec844dda"
      },
      "execution_count": 15,
      "outputs": [
        {
          "output_type": "stream",
          "name": "stdout",
          "text": [
            "Epoch 1/1024\n",
            "38/38 [==============================] - ETA: 0s - loss: 2.3028 - accuracy: 0.1008\n",
            "Epoch 1: val_loss improved from inf to 2.30132, saving model to vgg16_1.h5\n",
            "38/38 [==============================] - 55s 929ms/step - loss: 2.3028 - accuracy: 0.1008 - val_loss: 2.3013 - val_accuracy: 0.1178\n",
            "Epoch 2/1024\n",
            "38/38 [==============================] - ETA: 0s - loss: 2.3016 - accuracy: 0.1050\n",
            "Epoch 2: val_loss improved from 2.30132 to 2.29983, saving model to vgg16_1.h5\n",
            "38/38 [==============================] - 22s 564ms/step - loss: 2.3016 - accuracy: 0.1050 - val_loss: 2.2998 - val_accuracy: 0.1147\n",
            "Epoch 3/1024\n",
            "38/38 [==============================] - ETA: 0s - loss: 2.2999 - accuracy: 0.1070\n",
            "Epoch 3: val_loss improved from 2.29983 to 2.29804, saving model to vgg16_1.h5\n",
            "38/38 [==============================] - 23s 584ms/step - loss: 2.2999 - accuracy: 0.1070 - val_loss: 2.2980 - val_accuracy: 0.1333\n",
            "Epoch 4/1024\n",
            "38/38 [==============================] - ETA: 0s - loss: 2.2979 - accuracy: 0.1153\n",
            "Epoch 4: val_loss improved from 2.29804 to 2.29494, saving model to vgg16_1.h5\n",
            "38/38 [==============================] - 22s 561ms/step - loss: 2.2979 - accuracy: 0.1153 - val_loss: 2.2949 - val_accuracy: 0.1315\n",
            "Epoch 5/1024\n",
            "38/38 [==============================] - ETA: 0s - loss: 2.2942 - accuracy: 0.1269\n",
            "Epoch 5: val_loss improved from 2.29494 to 2.28908, saving model to vgg16_1.h5\n",
            "38/38 [==============================] - 22s 576ms/step - loss: 2.2942 - accuracy: 0.1269 - val_loss: 2.2891 - val_accuracy: 0.1809\n",
            "Epoch 6/1024\n",
            "38/38 [==============================] - ETA: 0s - loss: 2.2873 - accuracy: 0.1416\n",
            "Epoch 6: val_loss improved from 2.28908 to 2.27784, saving model to vgg16_1.h5\n",
            "38/38 [==============================] - 23s 602ms/step - loss: 2.2873 - accuracy: 0.1416 - val_loss: 2.2778 - val_accuracy: 0.1828\n",
            "Epoch 7/1024\n",
            "38/38 [==============================] - ETA: 0s - loss: 2.2731 - accuracy: 0.1614\n",
            "Epoch 7: val_loss improved from 2.27784 to 2.24588, saving model to vgg16_1.h5\n",
            "38/38 [==============================] - 23s 591ms/step - loss: 2.2731 - accuracy: 0.1614 - val_loss: 2.2459 - val_accuracy: 0.1612\n",
            "Epoch 8/1024\n",
            "38/38 [==============================] - ETA: 0s - loss: 2.2430 - accuracy: 0.1676\n",
            "Epoch 8: val_loss improved from 2.24588 to 2.17270, saving model to vgg16_1.h5\n",
            "38/38 [==============================] - 22s 566ms/step - loss: 2.2430 - accuracy: 0.1676 - val_loss: 2.1727 - val_accuracy: 0.2204\n",
            "Epoch 9/1024\n",
            "38/38 [==============================] - ETA: 0s - loss: 2.2153 - accuracy: 0.1717\n",
            "Epoch 9: val_loss improved from 2.17270 to 2.13018, saving model to vgg16_1.h5\n",
            "38/38 [==============================] - 23s 600ms/step - loss: 2.2153 - accuracy: 0.1717 - val_loss: 2.1302 - val_accuracy: 0.2280\n",
            "Epoch 10/1024\n",
            "38/38 [==============================] - ETA: 0s - loss: 2.1626 - accuracy: 0.1969\n",
            "Epoch 10: val_loss improved from 2.13018 to 2.05598, saving model to vgg16_1.h5\n",
            "38/38 [==============================] - 22s 566ms/step - loss: 2.1626 - accuracy: 0.1969 - val_loss: 2.0560 - val_accuracy: 0.2376\n",
            "Epoch 11/1024\n",
            "38/38 [==============================] - ETA: 0s - loss: 2.1438 - accuracy: 0.2030\n",
            "Epoch 11: val_loss did not improve from 2.05598\n",
            "38/38 [==============================] - 22s 577ms/step - loss: 2.1438 - accuracy: 0.2030 - val_loss: 2.1265 - val_accuracy: 0.2167\n",
            "Epoch 12/1024\n",
            "38/38 [==============================] - ETA: 0s - loss: 2.0991 - accuracy: 0.2250\n",
            "Epoch 12: val_loss improved from 2.05598 to 1.99823, saving model to vgg16_1.h5\n",
            "38/38 [==============================] - 22s 563ms/step - loss: 2.0991 - accuracy: 0.2250 - val_loss: 1.9982 - val_accuracy: 0.2645\n",
            "Epoch 13/1024\n",
            "38/38 [==============================] - ETA: 0s - loss: 2.0842 - accuracy: 0.2314\n",
            "Epoch 13: val_loss did not improve from 1.99823\n",
            "38/38 [==============================] - 21s 545ms/step - loss: 2.0842 - accuracy: 0.2314 - val_loss: 1.9983 - val_accuracy: 0.2557\n",
            "Epoch 14/1024\n",
            "38/38 [==============================] - ETA: 0s - loss: 2.0688 - accuracy: 0.2375\n",
            "Epoch 14: val_loss did not improve from 1.99823\n",
            "38/38 [==============================] - 22s 549ms/step - loss: 2.0688 - accuracy: 0.2375 - val_loss: 2.0478 - val_accuracy: 0.2534\n",
            "Epoch 15/1024\n",
            "38/38 [==============================] - ETA: 0s - loss: 2.0373 - accuracy: 0.2490\n",
            "Epoch 15: val_loss improved from 1.99823 to 1.95281, saving model to vgg16_1.h5\n",
            "38/38 [==============================] - 23s 598ms/step - loss: 2.0373 - accuracy: 0.2490 - val_loss: 1.9528 - val_accuracy: 0.2791\n",
            "Epoch 16/1024\n",
            "38/38 [==============================] - ETA: 0s - loss: 2.0159 - accuracy: 0.2559\n",
            "Epoch 16: val_loss did not improve from 1.95281\n",
            "38/38 [==============================] - 22s 576ms/step - loss: 2.0159 - accuracy: 0.2559 - val_loss: 2.0011 - val_accuracy: 0.2809\n",
            "Epoch 17/1024\n",
            "38/38 [==============================] - ETA: 0s - loss: 1.9844 - accuracy: 0.2677\n",
            "Epoch 17: val_loss improved from 1.95281 to 1.94112, saving model to vgg16_1.h5\n",
            "38/38 [==============================] - 22s 564ms/step - loss: 1.9844 - accuracy: 0.2677 - val_loss: 1.9411 - val_accuracy: 0.2978\n",
            "Epoch 18/1024\n",
            "38/38 [==============================] - ETA: 0s - loss: 1.9721 - accuracy: 0.2739\n",
            "Epoch 18: val_loss improved from 1.94112 to 1.92614, saving model to vgg16_1.h5\n",
            "38/38 [==============================] - 22s 577ms/step - loss: 1.9721 - accuracy: 0.2739 - val_loss: 1.9261 - val_accuracy: 0.2944\n",
            "Epoch 19/1024\n",
            "38/38 [==============================] - ETA: 0s - loss: 1.9496 - accuracy: 0.2849\n",
            "Epoch 19: val_loss improved from 1.92614 to 1.91154, saving model to vgg16_1.h5\n",
            "38/38 [==============================] - 22s 567ms/step - loss: 1.9496 - accuracy: 0.2849 - val_loss: 1.9115 - val_accuracy: 0.2983\n",
            "Epoch 20/1024\n",
            "38/38 [==============================] - ETA: 0s - loss: 1.9450 - accuracy: 0.2871\n",
            "Epoch 20: val_loss did not improve from 1.91154\n",
            "38/38 [==============================] - 22s 566ms/step - loss: 1.9450 - accuracy: 0.2871 - val_loss: 1.9604 - val_accuracy: 0.2841\n",
            "Epoch 21/1024\n",
            "38/38 [==============================] - ETA: 0s - loss: 1.9264 - accuracy: 0.2919\n",
            "Epoch 21: val_loss improved from 1.91154 to 1.90549, saving model to vgg16_1.h5\n",
            "38/38 [==============================] - 23s 593ms/step - loss: 1.9264 - accuracy: 0.2919 - val_loss: 1.9055 - val_accuracy: 0.2994\n",
            "Epoch 22/1024\n",
            "38/38 [==============================] - ETA: 0s - loss: 1.9059 - accuracy: 0.2990\n",
            "Epoch 22: val_loss improved from 1.90549 to 1.86674, saving model to vgg16_1.h5\n",
            "38/38 [==============================] - 23s 573ms/step - loss: 1.9059 - accuracy: 0.2990 - val_loss: 1.8667 - val_accuracy: 0.3159\n",
            "Epoch 23/1024\n",
            "38/38 [==============================] - ETA: 0s - loss: 1.8957 - accuracy: 0.3044\n",
            "Epoch 23: val_loss did not improve from 1.86674\n",
            "38/38 [==============================] - 21s 540ms/step - loss: 1.8957 - accuracy: 0.3044 - val_loss: 1.8791 - val_accuracy: 0.3096\n",
            "Epoch 24/1024\n",
            "38/38 [==============================] - ETA: 0s - loss: 1.8808 - accuracy: 0.3078\n",
            "Epoch 24: val_loss improved from 1.86674 to 1.82594, saving model to vgg16_1.h5\n",
            "38/38 [==============================] - 22s 565ms/step - loss: 1.8808 - accuracy: 0.3078 - val_loss: 1.8259 - val_accuracy: 0.3313\n",
            "Epoch 25/1024\n",
            "38/38 [==============================] - ETA: 0s - loss: 1.8748 - accuracy: 0.3153\n",
            "Epoch 25: val_loss did not improve from 1.82594\n",
            "38/38 [==============================] - 22s 580ms/step - loss: 1.8748 - accuracy: 0.3153 - val_loss: 1.8926 - val_accuracy: 0.3195\n",
            "Epoch 26/1024\n",
            "38/38 [==============================] - ETA: 0s - loss: 1.8483 - accuracy: 0.3221\n",
            "Epoch 26: val_loss improved from 1.82594 to 1.80034, saving model to vgg16_1.h5\n",
            "38/38 [==============================] - 23s 597ms/step - loss: 1.8483 - accuracy: 0.3221 - val_loss: 1.8003 - val_accuracy: 0.3430\n",
            "Epoch 27/1024\n",
            "38/38 [==============================] - ETA: 0s - loss: 1.8501 - accuracy: 0.3231\n",
            "Epoch 27: val_loss improved from 1.80034 to 1.79605, saving model to vgg16_1.h5\n",
            "38/38 [==============================] - 22s 558ms/step - loss: 1.8501 - accuracy: 0.3231 - val_loss: 1.7960 - val_accuracy: 0.3491\n",
            "Epoch 28/1024\n",
            "38/38 [==============================] - ETA: 0s - loss: 1.8211 - accuracy: 0.3346\n",
            "Epoch 28: val_loss improved from 1.79605 to 1.74677, saving model to vgg16_1.h5\n",
            "38/38 [==============================] - 23s 587ms/step - loss: 1.8211 - accuracy: 0.3346 - val_loss: 1.7468 - val_accuracy: 0.3688\n",
            "Epoch 29/1024\n",
            "38/38 [==============================] - ETA: 0s - loss: 1.8221 - accuracy: 0.3294\n",
            "Epoch 29: val_loss did not improve from 1.74677\n",
            "38/38 [==============================] - 22s 578ms/step - loss: 1.8221 - accuracy: 0.3294 - val_loss: 1.7607 - val_accuracy: 0.3502\n",
            "Epoch 30/1024\n",
            "38/38 [==============================] - ETA: 0s - loss: 1.7910 - accuracy: 0.3460\n",
            "Epoch 30: val_loss did not improve from 1.74677\n",
            "38/38 [==============================] - 21s 540ms/step - loss: 1.7910 - accuracy: 0.3460 - val_loss: 1.8926 - val_accuracy: 0.3191\n",
            "Epoch 31/1024\n",
            "38/38 [==============================] - ETA: 0s - loss: 1.7643 - accuracy: 0.3566\n",
            "Epoch 31: val_loss improved from 1.74677 to 1.74674, saving model to vgg16_1.h5\n",
            "38/38 [==============================] - 23s 583ms/step - loss: 1.7643 - accuracy: 0.3566 - val_loss: 1.7467 - val_accuracy: 0.3728\n",
            "Epoch 32/1024\n",
            "38/38 [==============================] - ETA: 0s - loss: 1.7474 - accuracy: 0.3625\n",
            "Epoch 32: val_loss improved from 1.74674 to 1.73970, saving model to vgg16_1.h5\n",
            "38/38 [==============================] - 22s 561ms/step - loss: 1.7474 - accuracy: 0.3625 - val_loss: 1.7397 - val_accuracy: 0.3737\n",
            "Epoch 33/1024\n",
            "38/38 [==============================] - ETA: 0s - loss: 1.7272 - accuracy: 0.3693\n",
            "Epoch 33: val_loss improved from 1.73970 to 1.67658, saving model to vgg16_1.h5\n",
            "38/38 [==============================] - 22s 560ms/step - loss: 1.7272 - accuracy: 0.3693 - val_loss: 1.6766 - val_accuracy: 0.3931\n",
            "Epoch 34/1024\n",
            "38/38 [==============================] - ETA: 0s - loss: 1.7281 - accuracy: 0.3702\n",
            "Epoch 34: val_loss did not improve from 1.67658\n",
            "38/38 [==============================] - 22s 559ms/step - loss: 1.7281 - accuracy: 0.3702 - val_loss: 1.8325 - val_accuracy: 0.3537\n",
            "Epoch 35/1024\n",
            "38/38 [==============================] - ETA: 0s - loss: 1.6885 - accuracy: 0.3870\n",
            "Epoch 35: val_loss did not improve from 1.67658\n",
            "38/38 [==============================] - 22s 546ms/step - loss: 1.6885 - accuracy: 0.3870 - val_loss: 1.8596 - val_accuracy: 0.3505\n",
            "Epoch 36/1024\n",
            "38/38 [==============================] - ETA: 0s - loss: 1.6877 - accuracy: 0.3874\n",
            "Epoch 36: val_loss improved from 1.67658 to 1.63817, saving model to vgg16_1.h5\n",
            "38/38 [==============================] - 22s 558ms/step - loss: 1.6877 - accuracy: 0.3874 - val_loss: 1.6382 - val_accuracy: 0.4157\n",
            "Epoch 37/1024\n",
            "38/38 [==============================] - ETA: 0s - loss: 1.6824 - accuracy: 0.3892\n",
            "Epoch 37: val_loss did not improve from 1.63817\n",
            "38/38 [==============================] - 21s 540ms/step - loss: 1.6824 - accuracy: 0.3892 - val_loss: 1.7068 - val_accuracy: 0.3825\n",
            "Epoch 38/1024\n",
            "38/38 [==============================] - ETA: 0s - loss: 1.6381 - accuracy: 0.4043\n",
            "Epoch 38: val_loss did not improve from 1.63817\n",
            "38/38 [==============================] - 22s 578ms/step - loss: 1.6381 - accuracy: 0.4043 - val_loss: 1.6480 - val_accuracy: 0.4102\n",
            "Epoch 39/1024\n",
            "38/38 [==============================] - ETA: 0s - loss: 1.6482 - accuracy: 0.4039\n",
            "Epoch 39: val_loss did not improve from 1.63817\n",
            "38/38 [==============================] - 22s 564ms/step - loss: 1.6482 - accuracy: 0.4039 - val_loss: 1.6854 - val_accuracy: 0.4062\n",
            "Epoch 40/1024\n",
            "38/38 [==============================] - ETA: 0s - loss: 1.5993 - accuracy: 0.4177\n",
            "Epoch 40: val_loss did not improve from 1.63817\n",
            "38/38 [==============================] - 21s 538ms/step - loss: 1.5993 - accuracy: 0.4177 - val_loss: 1.6591 - val_accuracy: 0.4138\n",
            "Epoch 41/1024\n",
            "38/38 [==============================] - ETA: 0s - loss: 1.5934 - accuracy: 0.4241\n",
            "Epoch 41: val_loss did not improve from 1.63817\n",
            "38/38 [==============================] - 22s 561ms/step - loss: 1.5934 - accuracy: 0.4241 - val_loss: 1.6811 - val_accuracy: 0.4044\n",
            "Epoch 42/1024\n",
            "38/38 [==============================] - ETA: 0s - loss: 1.6103 - accuracy: 0.4162\n",
            "Epoch 42: val_loss did not improve from 1.63817\n",
            "38/38 [==============================] - 21s 542ms/step - loss: 1.6103 - accuracy: 0.4162 - val_loss: 1.6704 - val_accuracy: 0.4067\n",
            "Epoch 43/1024\n",
            "38/38 [==============================] - ETA: 0s - loss: 1.5719 - accuracy: 0.4261\n",
            "Epoch 43: val_loss did not improve from 1.63817\n",
            "38/38 [==============================] - 22s 579ms/step - loss: 1.5719 - accuracy: 0.4261 - val_loss: 1.8372 - val_accuracy: 0.3595\n",
            "Epoch 44/1024\n",
            "38/38 [==============================] - ETA: 0s - loss: 1.5891 - accuracy: 0.4226\n",
            "Epoch 44: val_loss improved from 1.63817 to 1.59509, saving model to vgg16_1.h5\n",
            "38/38 [==============================] - 23s 589ms/step - loss: 1.5891 - accuracy: 0.4226 - val_loss: 1.5951 - val_accuracy: 0.4315\n",
            "Epoch 45/1024\n",
            "38/38 [==============================] - ETA: 0s - loss: 1.5779 - accuracy: 0.4305\n",
            "Epoch 45: val_loss did not improve from 1.59509\n",
            "38/38 [==============================] - 22s 570ms/step - loss: 1.5779 - accuracy: 0.4305 - val_loss: 1.6239 - val_accuracy: 0.4274\n",
            "Epoch 46/1024\n",
            "38/38 [==============================] - ETA: 0s - loss: 1.6393 - accuracy: 0.4107\n",
            "Epoch 46: val_loss did not improve from 1.59509\n",
            "38/38 [==============================] - 21s 542ms/step - loss: 1.6393 - accuracy: 0.4107 - val_loss: 1.6378 - val_accuracy: 0.4236\n",
            "Epoch 47/1024\n",
            "38/38 [==============================] - ETA: 0s - loss: 1.5419 - accuracy: 0.4363\n",
            "Epoch 47: val_loss improved from 1.59509 to 1.57707, saving model to vgg16_1.h5\n",
            "38/38 [==============================] - 22s 559ms/step - loss: 1.5419 - accuracy: 0.4363 - val_loss: 1.5771 - val_accuracy: 0.4416\n",
            "Epoch 48/1024\n",
            "38/38 [==============================] - ETA: 0s - loss: 1.5215 - accuracy: 0.4494\n",
            "Epoch 48: val_loss did not improve from 1.57707\n",
            "38/38 [==============================] - 22s 566ms/step - loss: 1.5215 - accuracy: 0.4494 - val_loss: 1.6185 - val_accuracy: 0.4196\n",
            "Epoch 49/1024\n",
            "38/38 [==============================] - ETA: 0s - loss: 1.4992 - accuracy: 0.4514\n",
            "Epoch 49: val_loss did not improve from 1.57707\n",
            "38/38 [==============================] - 21s 542ms/step - loss: 1.4992 - accuracy: 0.4514 - val_loss: 1.6450 - val_accuracy: 0.4196\n",
            "Epoch 50/1024\n",
            "38/38 [==============================] - ETA: 0s - loss: 1.4859 - accuracy: 0.4584\n",
            "Epoch 50: val_loss did not improve from 1.57707\n",
            "38/38 [==============================] - 22s 576ms/step - loss: 1.4859 - accuracy: 0.4584 - val_loss: 1.7649 - val_accuracy: 0.4028\n",
            "Epoch 51/1024\n",
            "38/38 [==============================] - ETA: 0s - loss: 1.4938 - accuracy: 0.4588\n",
            "Epoch 51: val_loss improved from 1.57707 to 1.56212, saving model to vgg16_1.h5\n",
            "38/38 [==============================] - 23s 591ms/step - loss: 1.4938 - accuracy: 0.4588 - val_loss: 1.5621 - val_accuracy: 0.4470\n",
            "Epoch 52/1024\n",
            "38/38 [==============================] - ETA: 0s - loss: 1.4595 - accuracy: 0.4693\n",
            "Epoch 52: val_loss improved from 1.56212 to 1.54733, saving model to vgg16_1.h5\n",
            "38/38 [==============================] - 23s 585ms/step - loss: 1.4595 - accuracy: 0.4693 - val_loss: 1.5473 - val_accuracy: 0.4536\n",
            "Epoch 53/1024\n",
            "38/38 [==============================] - ETA: 0s - loss: 1.4577 - accuracy: 0.4725\n",
            "Epoch 53: val_loss did not improve from 1.54733\n",
            "38/38 [==============================] - 21s 545ms/step - loss: 1.4577 - accuracy: 0.4725 - val_loss: 1.5591 - val_accuracy: 0.4601\n",
            "Epoch 54/1024\n",
            "38/38 [==============================] - ETA: 0s - loss: 1.4360 - accuracy: 0.4764\n",
            "Epoch 54: val_loss did not improve from 1.54733\n",
            "38/38 [==============================] - 21s 538ms/step - loss: 1.4360 - accuracy: 0.4764 - val_loss: 1.6539 - val_accuracy: 0.4393\n",
            "Epoch 55/1024\n",
            "38/38 [==============================] - ETA: 0s - loss: 1.4337 - accuracy: 0.4763\n",
            "Epoch 55: val_loss did not improve from 1.54733\n",
            "38/38 [==============================] - 21s 540ms/step - loss: 1.4337 - accuracy: 0.4763 - val_loss: 1.5722 - val_accuracy: 0.4538\n",
            "Epoch 56/1024\n",
            "38/38 [==============================] - ETA: 0s - loss: 1.4347 - accuracy: 0.4847\n",
            "Epoch 56: val_loss did not improve from 1.54733\n",
            "38/38 [==============================] - 22s 557ms/step - loss: 1.4347 - accuracy: 0.4847 - val_loss: 1.5523 - val_accuracy: 0.4550\n",
            "Epoch 57/1024\n",
            "38/38 [==============================] - ETA: 0s - loss: 1.4171 - accuracy: 0.4888\n",
            "Epoch 57: val_loss improved from 1.54733 to 1.51079, saving model to vgg16_1.h5\n",
            "38/38 [==============================] - 23s 603ms/step - loss: 1.4171 - accuracy: 0.4888 - val_loss: 1.5108 - val_accuracy: 0.4637\n",
            "Epoch 58/1024\n",
            "38/38 [==============================] - ETA: 0s - loss: 1.4092 - accuracy: 0.4909\n",
            "Epoch 58: val_loss did not improve from 1.51079\n",
            "38/38 [==============================] - 21s 544ms/step - loss: 1.4092 - accuracy: 0.4909 - val_loss: 1.5379 - val_accuracy: 0.4610\n",
            "Epoch 59/1024\n",
            "38/38 [==============================] - ETA: 0s - loss: 1.3818 - accuracy: 0.4979\n",
            "Epoch 59: val_loss did not improve from 1.51079\n",
            "38/38 [==============================] - 22s 574ms/step - loss: 1.3818 - accuracy: 0.4979 - val_loss: 1.5704 - val_accuracy: 0.4626\n",
            "Epoch 60/1024\n",
            "38/38 [==============================] - ETA: 0s - loss: 1.3698 - accuracy: 0.5046\n",
            "Epoch 60: val_loss did not improve from 1.51079\n",
            "38/38 [==============================] - 21s 544ms/step - loss: 1.3698 - accuracy: 0.5046 - val_loss: 1.5419 - val_accuracy: 0.4619\n",
            "Epoch 61/1024\n",
            "38/38 [==============================] - ETA: 0s - loss: 1.3580 - accuracy: 0.5060\n",
            "Epoch 61: val_loss improved from 1.51079 to 1.49693, saving model to vgg16_1.h5\n",
            "38/38 [==============================] - 23s 604ms/step - loss: 1.3580 - accuracy: 0.5060 - val_loss: 1.4969 - val_accuracy: 0.4788\n",
            "Epoch 62/1024\n",
            "38/38 [==============================] - ETA: 0s - loss: 1.3596 - accuracy: 0.5087\n",
            "Epoch 62: val_loss did not improve from 1.49693\n",
            "38/38 [==============================] - 22s 575ms/step - loss: 1.3596 - accuracy: 0.5087 - val_loss: 1.5246 - val_accuracy: 0.4662\n",
            "Epoch 63/1024\n",
            "38/38 [==============================] - ETA: 0s - loss: 1.3412 - accuracy: 0.5151\n",
            "Epoch 63: val_loss did not improve from 1.49693\n",
            "38/38 [==============================] - 21s 540ms/step - loss: 1.3412 - accuracy: 0.5151 - val_loss: 1.5247 - val_accuracy: 0.4754\n",
            "Epoch 64/1024\n",
            "38/38 [==============================] - ETA: 0s - loss: 1.3266 - accuracy: 0.5198\n",
            "Epoch 64: val_loss improved from 1.49693 to 1.47476, saving model to vgg16_1.h5\n",
            "38/38 [==============================] - 23s 584ms/step - loss: 1.3266 - accuracy: 0.5198 - val_loss: 1.4748 - val_accuracy: 0.4910\n",
            "Epoch 65/1024\n",
            "38/38 [==============================] - ETA: 0s - loss: 1.3314 - accuracy: 0.5141\n",
            "Epoch 65: val_loss did not improve from 1.47476\n",
            "38/38 [==============================] - 21s 540ms/step - loss: 1.3314 - accuracy: 0.5141 - val_loss: 1.4779 - val_accuracy: 0.4905\n",
            "Epoch 66/1024\n",
            "38/38 [==============================] - ETA: 0s - loss: 1.3218 - accuracy: 0.5205\n",
            "Epoch 66: val_loss did not improve from 1.47476\n",
            "38/38 [==============================] - 22s 571ms/step - loss: 1.3218 - accuracy: 0.5205 - val_loss: 1.5326 - val_accuracy: 0.4773\n",
            "Epoch 67/1024\n",
            "38/38 [==============================] - ETA: 0s - loss: 1.2968 - accuracy: 0.5307\n",
            "Epoch 67: val_loss did not improve from 1.47476\n",
            "38/38 [==============================] - 22s 560ms/step - loss: 1.2968 - accuracy: 0.5307 - val_loss: 1.5204 - val_accuracy: 0.4898\n",
            "Epoch 68/1024\n",
            "38/38 [==============================] - ETA: 0s - loss: 1.3190 - accuracy: 0.5266\n",
            "Epoch 68: val_loss improved from 1.47476 to 1.44845, saving model to vgg16_1.h5\n",
            "38/38 [==============================] - 23s 568ms/step - loss: 1.3190 - accuracy: 0.5266 - val_loss: 1.4485 - val_accuracy: 0.4938\n",
            "Epoch 69/1024\n",
            "38/38 [==============================] - ETA: 0s - loss: 1.2994 - accuracy: 0.5285\n",
            "Epoch 69: val_loss did not improve from 1.44845\n",
            "38/38 [==============================] - 22s 558ms/step - loss: 1.2994 - accuracy: 0.5285 - val_loss: 1.5189 - val_accuracy: 0.4782\n",
            "Epoch 70/1024\n",
            "38/38 [==============================] - ETA: 0s - loss: 1.2831 - accuracy: 0.5344\n",
            "Epoch 70: val_loss improved from 1.44845 to 1.44709, saving model to vgg16_1.h5\n",
            "38/38 [==============================] - 23s 591ms/step - loss: 1.2831 - accuracy: 0.5344 - val_loss: 1.4471 - val_accuracy: 0.5029\n",
            "Epoch 71/1024\n",
            "38/38 [==============================] - ETA: 0s - loss: 1.2812 - accuracy: 0.5369\n",
            "Epoch 71: val_loss did not improve from 1.44709\n",
            "38/38 [==============================] - 22s 565ms/step - loss: 1.2812 - accuracy: 0.5369 - val_loss: 1.4646 - val_accuracy: 0.4975\n",
            "Epoch 72/1024\n",
            "38/38 [==============================] - ETA: 0s - loss: 1.2788 - accuracy: 0.5379\n",
            "Epoch 72: val_loss did not improve from 1.44709\n",
            "38/38 [==============================] - 21s 540ms/step - loss: 1.2788 - accuracy: 0.5379 - val_loss: 1.4810 - val_accuracy: 0.4952\n",
            "Epoch 73/1024\n",
            "38/38 [==============================] - ETA: 0s - loss: 1.2561 - accuracy: 0.5442\n",
            "Epoch 73: val_loss did not improve from 1.44709\n",
            "38/38 [==============================] - 22s 575ms/step - loss: 1.2561 - accuracy: 0.5442 - val_loss: 1.4666 - val_accuracy: 0.4966\n",
            "Epoch 74/1024\n",
            "38/38 [==============================] - ETA: 0s - loss: 1.2497 - accuracy: 0.5466\n",
            "Epoch 74: val_loss did not improve from 1.44709\n",
            "38/38 [==============================] - 21s 539ms/step - loss: 1.2497 - accuracy: 0.5466 - val_loss: 1.4790 - val_accuracy: 0.5004\n",
            "Epoch 75/1024\n",
            "38/38 [==============================] - ETA: 0s - loss: 1.2352 - accuracy: 0.5481\n",
            "Epoch 75: val_loss improved from 1.44709 to 1.42605, saving model to vgg16_1.h5\n",
            "38/38 [==============================] - 23s 604ms/step - loss: 1.2352 - accuracy: 0.5481 - val_loss: 1.4261 - val_accuracy: 0.5073\n",
            "Epoch 76/1024\n",
            "38/38 [==============================] - ETA: 0s - loss: 1.2254 - accuracy: 0.5532\n",
            "Epoch 76: val_loss did not improve from 1.42605\n",
            "38/38 [==============================] - 21s 542ms/step - loss: 1.2254 - accuracy: 0.5532 - val_loss: 1.4526 - val_accuracy: 0.5050\n",
            "Epoch 77/1024\n",
            "38/38 [==============================] - ETA: 0s - loss: 1.2319 - accuracy: 0.5569\n",
            "Epoch 77: val_loss did not improve from 1.42605\n",
            "38/38 [==============================] - 22s 567ms/step - loss: 1.2319 - accuracy: 0.5569 - val_loss: 1.4355 - val_accuracy: 0.5167\n",
            "Epoch 78/1024\n",
            "38/38 [==============================] - ETA: 0s - loss: 1.2113 - accuracy: 0.5578\n",
            "Epoch 78: val_loss improved from 1.42605 to 1.38804, saving model to vgg16_1.h5\n",
            "38/38 [==============================] - 22s 568ms/step - loss: 1.2113 - accuracy: 0.5578 - val_loss: 1.3880 - val_accuracy: 0.5245\n",
            "Epoch 79/1024\n",
            "38/38 [==============================] - ETA: 0s - loss: 1.2025 - accuracy: 0.5641\n",
            "Epoch 79: val_loss did not improve from 1.38804\n",
            "38/38 [==============================] - 22s 579ms/step - loss: 1.2025 - accuracy: 0.5641 - val_loss: 1.4141 - val_accuracy: 0.5122\n",
            "Epoch 80/1024\n",
            "38/38 [==============================] - ETA: 0s - loss: 1.2104 - accuracy: 0.5606\n",
            "Epoch 80: val_loss did not improve from 1.38804\n",
            "38/38 [==============================] - 22s 564ms/step - loss: 1.2104 - accuracy: 0.5606 - val_loss: 1.4473 - val_accuracy: 0.5006\n",
            "Epoch 81/1024\n",
            "38/38 [==============================] - ETA: 0s - loss: 1.1999 - accuracy: 0.5652\n",
            "Epoch 81: val_loss improved from 1.38804 to 1.34957, saving model to vgg16_1.h5\n",
            "38/38 [==============================] - 23s 591ms/step - loss: 1.1999 - accuracy: 0.5652 - val_loss: 1.3496 - val_accuracy: 0.5330\n",
            "Epoch 82/1024\n",
            "38/38 [==============================] - ETA: 0s - loss: 1.1799 - accuracy: 0.5688\n",
            "Epoch 82: val_loss did not improve from 1.34957\n",
            "38/38 [==============================] - 22s 556ms/step - loss: 1.1799 - accuracy: 0.5688 - val_loss: 1.3528 - val_accuracy: 0.5284\n",
            "Epoch 83/1024\n",
            "38/38 [==============================] - ETA: 0s - loss: 1.1775 - accuracy: 0.5695\n",
            "Epoch 83: val_loss did not improve from 1.34957\n",
            "38/38 [==============================] - 21s 540ms/step - loss: 1.1775 - accuracy: 0.5695 - val_loss: 1.4670 - val_accuracy: 0.4931\n",
            "Epoch 84/1024\n",
            "38/38 [==============================] - ETA: 0s - loss: 1.1671 - accuracy: 0.5727\n",
            "Epoch 84: val_loss did not improve from 1.34957\n",
            "38/38 [==============================] - 22s 567ms/step - loss: 1.1671 - accuracy: 0.5727 - val_loss: 1.3575 - val_accuracy: 0.5345\n",
            "Epoch 85/1024\n",
            "38/38 [==============================] - ETA: 0s - loss: 1.1723 - accuracy: 0.5754\n",
            "Epoch 85: val_loss improved from 1.34957 to 1.33870, saving model to vgg16_1.h5\n",
            "38/38 [==============================] - 23s 599ms/step - loss: 1.1723 - accuracy: 0.5754 - val_loss: 1.3387 - val_accuracy: 0.5427\n",
            "Epoch 86/1024\n",
            "38/38 [==============================] - ETA: 0s - loss: 1.1470 - accuracy: 0.5863\n",
            "Epoch 86: val_loss did not improve from 1.33870\n",
            "38/38 [==============================] - 22s 563ms/step - loss: 1.1470 - accuracy: 0.5863 - val_loss: 1.3580 - val_accuracy: 0.5364\n",
            "Epoch 87/1024\n",
            "38/38 [==============================] - ETA: 0s - loss: 1.1330 - accuracy: 0.5904\n",
            "Epoch 87: val_loss improved from 1.33870 to 1.31912, saving model to vgg16_1.h5\n",
            "38/38 [==============================] - 22s 559ms/step - loss: 1.1330 - accuracy: 0.5904 - val_loss: 1.3191 - val_accuracy: 0.5479\n",
            "Epoch 88/1024\n",
            "38/38 [==============================] - ETA: 0s - loss: 1.1378 - accuracy: 0.5827\n",
            "Epoch 88: val_loss did not improve from 1.31912\n",
            "38/38 [==============================] - 23s 579ms/step - loss: 1.1378 - accuracy: 0.5827 - val_loss: 1.3208 - val_accuracy: 0.5501\n",
            "Epoch 89/1024\n",
            "38/38 [==============================] - ETA: 0s - loss: 1.1202 - accuracy: 0.5948\n",
            "Epoch 89: val_loss improved from 1.31912 to 1.30445, saving model to vgg16_1.h5\n",
            "38/38 [==============================] - 22s 569ms/step - loss: 1.1202 - accuracy: 0.5948 - val_loss: 1.3044 - val_accuracy: 0.5474\n",
            "Epoch 90/1024\n",
            "38/38 [==============================] - ETA: 0s - loss: 1.1176 - accuracy: 0.5955\n",
            "Epoch 90: val_loss did not improve from 1.30445\n",
            "38/38 [==============================] - 21s 539ms/step - loss: 1.1176 - accuracy: 0.5955 - val_loss: 1.3852 - val_accuracy: 0.5321\n",
            "Epoch 91/1024\n",
            "38/38 [==============================] - ETA: 0s - loss: 1.1157 - accuracy: 0.5985\n",
            "Epoch 91: val_loss did not improve from 1.30445\n",
            "38/38 [==============================] - 22s 570ms/step - loss: 1.1157 - accuracy: 0.5985 - val_loss: 1.3854 - val_accuracy: 0.5371\n",
            "Epoch 92/1024\n",
            "38/38 [==============================] - ETA: 0s - loss: 1.1138 - accuracy: 0.5945\n",
            "Epoch 92: val_loss did not improve from 1.30445\n",
            "38/38 [==============================] - 21s 541ms/step - loss: 1.1138 - accuracy: 0.5945 - val_loss: 1.3188 - val_accuracy: 0.5459\n",
            "Epoch 93/1024\n",
            "38/38 [==============================] - ETA: 0s - loss: 1.0985 - accuracy: 0.6003\n",
            "Epoch 93: val_loss did not improve from 1.30445\n",
            "38/38 [==============================] - 22s 570ms/step - loss: 1.0985 - accuracy: 0.6003 - val_loss: 1.3524 - val_accuracy: 0.5418\n",
            "Epoch 94/1024\n",
            "38/38 [==============================] - ETA: 0s - loss: 1.0888 - accuracy: 0.6020\n",
            "Epoch 94: val_loss did not improve from 1.30445\n",
            "38/38 [==============================] - 21s 548ms/step - loss: 1.0888 - accuracy: 0.6020 - val_loss: 1.3563 - val_accuracy: 0.5385\n",
            "Epoch 95/1024\n",
            "38/38 [==============================] - ETA: 0s - loss: 1.0891 - accuracy: 0.6063\n",
            "Epoch 95: val_loss improved from 1.30445 to 1.27448, saving model to vgg16_1.h5\n",
            "38/38 [==============================] - 22s 574ms/step - loss: 1.0891 - accuracy: 0.6063 - val_loss: 1.2745 - val_accuracy: 0.5627\n",
            "Epoch 96/1024\n",
            "38/38 [==============================] - ETA: 0s - loss: 1.0864 - accuracy: 0.6103\n",
            "Epoch 96: val_loss did not improve from 1.27448\n",
            "38/38 [==============================] - 21s 544ms/step - loss: 1.0864 - accuracy: 0.6103 - val_loss: 1.2811 - val_accuracy: 0.5637\n",
            "Epoch 97/1024\n",
            "38/38 [==============================] - ETA: 0s - loss: 1.0713 - accuracy: 0.6114\n",
            "Epoch 97: val_loss did not improve from 1.27448\n",
            "38/38 [==============================] - 22s 564ms/step - loss: 1.0713 - accuracy: 0.6114 - val_loss: 1.2899 - val_accuracy: 0.5656\n",
            "Epoch 98/1024\n",
            "38/38 [==============================] - ETA: 0s - loss: 1.0482 - accuracy: 0.6221\n",
            "Epoch 98: val_loss improved from 1.27448 to 1.26189, saving model to vgg16_1.h5\n",
            "38/38 [==============================] - 22s 571ms/step - loss: 1.0482 - accuracy: 0.6221 - val_loss: 1.2619 - val_accuracy: 0.5710\n",
            "Epoch 99/1024\n",
            "38/38 [==============================] - ETA: 0s - loss: 1.0650 - accuracy: 0.6132\n",
            "Epoch 99: val_loss did not improve from 1.26189\n",
            "38/38 [==============================] - 21s 544ms/step - loss: 1.0650 - accuracy: 0.6132 - val_loss: 1.2755 - val_accuracy: 0.5668\n",
            "Epoch 100/1024\n",
            "38/38 [==============================] - ETA: 0s - loss: 1.0294 - accuracy: 0.6241\n",
            "Epoch 100: val_loss did not improve from 1.26189\n",
            "38/38 [==============================] - 22s 581ms/step - loss: 1.0294 - accuracy: 0.6241 - val_loss: 1.2837 - val_accuracy: 0.5636\n",
            "Epoch 101/1024\n",
            "38/38 [==============================] - ETA: 0s - loss: 1.0463 - accuracy: 0.6214\n",
            "Epoch 101: val_loss did not improve from 1.26189\n",
            "38/38 [==============================] - 21s 547ms/step - loss: 1.0463 - accuracy: 0.6214 - val_loss: 1.3274 - val_accuracy: 0.5583\n",
            "Epoch 102/1024\n",
            "38/38 [==============================] - ETA: 0s - loss: 1.0277 - accuracy: 0.6263\n",
            "Epoch 102: val_loss did not improve from 1.26189\n",
            "38/38 [==============================] - 22s 572ms/step - loss: 1.0277 - accuracy: 0.6263 - val_loss: 1.2706 - val_accuracy: 0.5774\n",
            "Epoch 103/1024\n",
            "38/38 [==============================] - ETA: 0s - loss: 1.0234 - accuracy: 0.6272\n",
            "Epoch 103: val_loss did not improve from 1.26189\n",
            "38/38 [==============================] - 23s 584ms/step - loss: 1.0234 - accuracy: 0.6272 - val_loss: 1.2920 - val_accuracy: 0.5589\n",
            "Epoch 104/1024\n",
            "38/38 [==============================] - ETA: 0s - loss: 1.0082 - accuracy: 0.6339\n",
            "Epoch 104: val_loss improved from 1.26189 to 1.24657, saving model to vgg16_1.h5\n",
            "38/38 [==============================] - 23s 574ms/step - loss: 1.0082 - accuracy: 0.6339 - val_loss: 1.2466 - val_accuracy: 0.5798\n",
            "Epoch 105/1024\n",
            "38/38 [==============================] - ETA: 0s - loss: 1.0073 - accuracy: 0.6342\n",
            "Epoch 105: val_loss did not improve from 1.24657\n",
            "38/38 [==============================] - 21s 542ms/step - loss: 1.0073 - accuracy: 0.6342 - val_loss: 1.2609 - val_accuracy: 0.5727\n",
            "Epoch 106/1024\n",
            "38/38 [==============================] - ETA: 0s - loss: 1.0079 - accuracy: 0.6335\n",
            "Epoch 106: val_loss improved from 1.24657 to 1.20305, saving model to vgg16_1.h5\n",
            "38/38 [==============================] - 23s 584ms/step - loss: 1.0079 - accuracy: 0.6335 - val_loss: 1.2030 - val_accuracy: 0.5912\n",
            "Epoch 107/1024\n",
            "38/38 [==============================] - ETA: 0s - loss: 1.0027 - accuracy: 0.6354\n",
            "Epoch 107: val_loss did not improve from 1.20305\n",
            "38/38 [==============================] - 22s 583ms/step - loss: 1.0027 - accuracy: 0.6354 - val_loss: 1.2810 - val_accuracy: 0.5637\n",
            "Epoch 108/1024\n",
            "38/38 [==============================] - ETA: 0s - loss: 0.9923 - accuracy: 0.6383\n",
            "Epoch 108: val_loss did not improve from 1.20305\n",
            "38/38 [==============================] - 22s 579ms/step - loss: 0.9923 - accuracy: 0.6383 - val_loss: 1.2501 - val_accuracy: 0.5775\n",
            "Epoch 109/1024\n",
            "38/38 [==============================] - ETA: 0s - loss: 0.9778 - accuracy: 0.6468\n",
            "Epoch 109: val_loss did not improve from 1.20305\n",
            "38/38 [==============================] - 22s 563ms/step - loss: 0.9778 - accuracy: 0.6468 - val_loss: 1.2336 - val_accuracy: 0.5825\n",
            "Epoch 110/1024\n",
            "38/38 [==============================] - ETA: 0s - loss: 0.9667 - accuracy: 0.6507\n",
            "Epoch 110: val_loss did not improve from 1.20305\n",
            "38/38 [==============================] - 21s 548ms/step - loss: 0.9667 - accuracy: 0.6507 - val_loss: 1.2414 - val_accuracy: 0.5860\n",
            "Epoch 111/1024\n",
            "38/38 [==============================] - ETA: 0s - loss: 0.9718 - accuracy: 0.6476\n",
            "Epoch 111: val_loss did not improve from 1.20305\n",
            "38/38 [==============================] - 23s 582ms/step - loss: 0.9718 - accuracy: 0.6476 - val_loss: 1.2948 - val_accuracy: 0.5694\n",
            "Epoch 112/1024\n",
            "38/38 [==============================] - ETA: 0s - loss: 0.9686 - accuracy: 0.6480\n",
            "Epoch 112: val_loss did not improve from 1.20305\n",
            "38/38 [==============================] - 22s 571ms/step - loss: 0.9686 - accuracy: 0.6480 - val_loss: 1.2668 - val_accuracy: 0.5858\n",
            "Epoch 113/1024\n",
            "38/38 [==============================] - ETA: 0s - loss: 0.9494 - accuracy: 0.6561\n",
            "Epoch 113: val_loss improved from 1.20305 to 1.16402, saving model to vgg16_1.h5\n",
            "38/38 [==============================] - 22s 565ms/step - loss: 0.9494 - accuracy: 0.6561 - val_loss: 1.1640 - val_accuracy: 0.6018\n",
            "Epoch 114/1024\n",
            "38/38 [==============================] - ETA: 0s - loss: 0.9404 - accuracy: 0.6604\n",
            "Epoch 114: val_loss did not improve from 1.16402\n",
            "38/38 [==============================] - 22s 557ms/step - loss: 0.9404 - accuracy: 0.6604 - val_loss: 1.2066 - val_accuracy: 0.5955\n",
            "Epoch 115/1024\n",
            "38/38 [==============================] - ETA: 0s - loss: 0.9485 - accuracy: 0.6519\n",
            "Epoch 115: val_loss improved from 1.16402 to 1.15863, saving model to vgg16_1.h5\n",
            "38/38 [==============================] - 22s 570ms/step - loss: 0.9485 - accuracy: 0.6519 - val_loss: 1.1586 - val_accuracy: 0.6069\n",
            "Epoch 116/1024\n",
            "38/38 [==============================] - ETA: 0s - loss: 0.9268 - accuracy: 0.6657\n",
            "Epoch 116: val_loss did not improve from 1.15863\n",
            "38/38 [==============================] - 22s 578ms/step - loss: 0.9268 - accuracy: 0.6657 - val_loss: 1.1931 - val_accuracy: 0.6012\n",
            "Epoch 117/1024\n",
            "38/38 [==============================] - ETA: 0s - loss: 0.9281 - accuracy: 0.6621\n",
            "Epoch 117: val_loss did not improve from 1.15863\n",
            "38/38 [==============================] - 21s 547ms/step - loss: 0.9281 - accuracy: 0.6621 - val_loss: 1.2074 - val_accuracy: 0.5905\n",
            "Epoch 118/1024\n",
            "38/38 [==============================] - ETA: 0s - loss: 0.9292 - accuracy: 0.6635\n",
            "Epoch 118: val_loss did not improve from 1.15863\n",
            "38/38 [==============================] - 22s 562ms/step - loss: 0.9292 - accuracy: 0.6635 - val_loss: 1.2370 - val_accuracy: 0.5809\n",
            "Epoch 119/1024\n",
            "38/38 [==============================] - ETA: 0s - loss: 0.9250 - accuracy: 0.6655\n",
            "Epoch 119: val_loss did not improve from 1.15863\n",
            "38/38 [==============================] - 21s 546ms/step - loss: 0.9250 - accuracy: 0.6655 - val_loss: 1.2435 - val_accuracy: 0.5896\n",
            "Epoch 120/1024\n",
            "38/38 [==============================] - ETA: 0s - loss: 0.9146 - accuracy: 0.6617\n",
            "Epoch 120: val_loss did not improve from 1.15863\n",
            "38/38 [==============================] - 22s 577ms/step - loss: 0.9146 - accuracy: 0.6617 - val_loss: 1.1661 - val_accuracy: 0.6038\n",
            "Epoch 121/1024\n",
            "38/38 [==============================] - ETA: 0s - loss: 0.9091 - accuracy: 0.6680\n",
            "Epoch 121: val_loss did not improve from 1.15863\n",
            "38/38 [==============================] - 21s 544ms/step - loss: 0.9091 - accuracy: 0.6680 - val_loss: 1.2150 - val_accuracy: 0.5891\n",
            "Epoch 122/1024\n",
            "38/38 [==============================] - ETA: 0s - loss: 0.8921 - accuracy: 0.6803\n",
            "Epoch 122: val_loss did not improve from 1.15863\n",
            "38/38 [==============================] - 22s 564ms/step - loss: 0.8921 - accuracy: 0.6803 - val_loss: 1.1692 - val_accuracy: 0.6045\n",
            "Epoch 123/1024\n",
            "38/38 [==============================] - ETA: 0s - loss: 0.8959 - accuracy: 0.6702\n",
            "Epoch 123: val_loss improved from 1.15863 to 1.15812, saving model to vgg16_1.h5\n",
            "38/38 [==============================] - 22s 567ms/step - loss: 0.8959 - accuracy: 0.6702 - val_loss: 1.1581 - val_accuracy: 0.6076\n",
            "Epoch 124/1024\n",
            "38/38 [==============================] - ETA: 0s - loss: 0.8745 - accuracy: 0.6814\n",
            "Epoch 124: val_loss did not improve from 1.15812\n",
            "38/38 [==============================] - 22s 541ms/step - loss: 0.8745 - accuracy: 0.6814 - val_loss: 1.1761 - val_accuracy: 0.6064\n",
            "Epoch 125/1024\n",
            "38/38 [==============================] - ETA: 0s - loss: 0.8780 - accuracy: 0.6817\n",
            "Epoch 125: val_loss did not improve from 1.15812\n",
            "38/38 [==============================] - 22s 576ms/step - loss: 0.8780 - accuracy: 0.6817 - val_loss: 1.1803 - val_accuracy: 0.6078\n",
            "Epoch 126/1024\n",
            "38/38 [==============================] - ETA: 0s - loss: 0.8750 - accuracy: 0.6808\n",
            "Epoch 126: val_loss did not improve from 1.15812\n",
            "38/38 [==============================] - 21s 547ms/step - loss: 0.8750 - accuracy: 0.6808 - val_loss: 1.2026 - val_accuracy: 0.6049\n",
            "Epoch 127/1024\n",
            "38/38 [==============================] - ETA: 0s - loss: 0.8726 - accuracy: 0.6836\n",
            "Epoch 127: val_loss did not improve from 1.15812\n",
            "38/38 [==============================] - 22s 559ms/step - loss: 0.8726 - accuracy: 0.6836 - val_loss: 1.2044 - val_accuracy: 0.5970\n",
            "Epoch 128/1024\n",
            "38/38 [==============================] - ETA: 0s - loss: 0.8633 - accuracy: 0.6878\n",
            "Epoch 128: val_loss improved from 1.15812 to 1.11659, saving model to vgg16_1.h5\n",
            "38/38 [==============================] - 23s 607ms/step - loss: 0.8633 - accuracy: 0.6878 - val_loss: 1.1166 - val_accuracy: 0.6194\n",
            "Epoch 129/1024\n",
            "38/38 [==============================] - ETA: 0s - loss: 0.8513 - accuracy: 0.6896\n",
            "Epoch 129: val_loss did not improve from 1.11659\n",
            "38/38 [==============================] - 21s 547ms/step - loss: 0.8513 - accuracy: 0.6896 - val_loss: 1.1477 - val_accuracy: 0.6137\n",
            "Epoch 130/1024\n",
            "38/38 [==============================] - ETA: 0s - loss: 0.8736 - accuracy: 0.6841\n",
            "Epoch 130: val_loss did not improve from 1.11659\n",
            "38/38 [==============================] - 22s 573ms/step - loss: 0.8736 - accuracy: 0.6841 - val_loss: 1.1946 - val_accuracy: 0.5988\n",
            "Epoch 131/1024\n",
            "38/38 [==============================] - ETA: 0s - loss: 0.8494 - accuracy: 0.6889\n",
            "Epoch 131: val_loss did not improve from 1.11659\n",
            "38/38 [==============================] - 23s 585ms/step - loss: 0.8494 - accuracy: 0.6889 - val_loss: 1.1406 - val_accuracy: 0.6155\n",
            "Epoch 132/1024\n",
            "38/38 [==============================] - ETA: 0s - loss: 0.8415 - accuracy: 0.6927\n",
            "Epoch 132: val_loss did not improve from 1.11659\n",
            "38/38 [==============================] - 23s 585ms/step - loss: 0.8415 - accuracy: 0.6927 - val_loss: 1.2137 - val_accuracy: 0.5943\n",
            "Epoch 133/1024\n",
            "38/38 [==============================] - ETA: 0s - loss: 0.8296 - accuracy: 0.7014\n",
            "Epoch 133: val_loss did not improve from 1.11659\n",
            "38/38 [==============================] - 22s 557ms/step - loss: 0.8296 - accuracy: 0.7014 - val_loss: 1.1315 - val_accuracy: 0.6235\n",
            "Epoch 134/1024\n",
            "38/38 [==============================] - ETA: 0s - loss: 0.8181 - accuracy: 0.7023\n",
            "Epoch 134: val_loss did not improve from 1.11659\n",
            "38/38 [==============================] - 22s 561ms/step - loss: 0.8181 - accuracy: 0.7023 - val_loss: 1.1414 - val_accuracy: 0.6216\n",
            "Epoch 135/1024\n",
            "38/38 [==============================] - ETA: 0s - loss: 0.8246 - accuracy: 0.6984\n",
            "Epoch 135: val_loss did not improve from 1.11659\n",
            "38/38 [==============================] - 22s 553ms/step - loss: 0.8246 - accuracy: 0.6984 - val_loss: 1.1265 - val_accuracy: 0.6295\n",
            "Epoch 136/1024\n",
            "38/38 [==============================] - ETA: 0s - loss: 0.8026 - accuracy: 0.7088\n",
            "Epoch 136: val_loss did not improve from 1.11659\n",
            "38/38 [==============================] - 22s 552ms/step - loss: 0.8026 - accuracy: 0.7088 - val_loss: 1.1571 - val_accuracy: 0.6189\n",
            "Epoch 137/1024\n",
            "38/38 [==============================] - ETA: 0s - loss: 0.8039 - accuracy: 0.7053\n",
            "Epoch 137: val_loss improved from 1.11659 to 1.10140, saving model to vgg16_1.h5\n",
            "38/38 [==============================] - 22s 579ms/step - loss: 0.8039 - accuracy: 0.7053 - val_loss: 1.1014 - val_accuracy: 0.6324\n",
            "Epoch 138/1024\n",
            "38/38 [==============================] - ETA: 0s - loss: 0.8078 - accuracy: 0.7056\n",
            "Epoch 138: val_loss did not improve from 1.10140\n",
            "38/38 [==============================] - 22s 555ms/step - loss: 0.8078 - accuracy: 0.7056 - val_loss: 1.1965 - val_accuracy: 0.6073\n",
            "Epoch 139/1024\n",
            "38/38 [==============================] - ETA: 0s - loss: 0.7828 - accuracy: 0.7141\n",
            "Epoch 139: val_loss did not improve from 1.10140\n",
            "38/38 [==============================] - 22s 558ms/step - loss: 0.7828 - accuracy: 0.7141 - val_loss: 1.1607 - val_accuracy: 0.6145\n",
            "Epoch 140/1024\n",
            "38/38 [==============================] - ETA: 0s - loss: 0.7914 - accuracy: 0.7119\n",
            "Epoch 140: val_loss improved from 1.10140 to 1.09431, saving model to vgg16_1.h5\n",
            "38/38 [==============================] - 22s 573ms/step - loss: 0.7914 - accuracy: 0.7119 - val_loss: 1.0943 - val_accuracy: 0.6318\n",
            "Epoch 141/1024\n",
            "38/38 [==============================] - ETA: 0s - loss: 0.7822 - accuracy: 0.7156\n",
            "Epoch 141: val_loss did not improve from 1.09431\n",
            "38/38 [==============================] - 22s 556ms/step - loss: 0.7822 - accuracy: 0.7156 - val_loss: 1.1129 - val_accuracy: 0.6364\n",
            "Epoch 142/1024\n",
            "38/38 [==============================] - ETA: 0s - loss: 0.7755 - accuracy: 0.7144\n",
            "Epoch 142: val_loss did not improve from 1.09431\n",
            "38/38 [==============================] - 23s 583ms/step - loss: 0.7755 - accuracy: 0.7144 - val_loss: 1.1709 - val_accuracy: 0.6174\n",
            "Epoch 143/1024\n",
            "38/38 [==============================] - ETA: 0s - loss: 0.7733 - accuracy: 0.7181\n",
            "Epoch 143: val_loss did not improve from 1.09431\n",
            "38/38 [==============================] - 22s 557ms/step - loss: 0.7733 - accuracy: 0.7181 - val_loss: 1.1255 - val_accuracy: 0.6316\n",
            "Epoch 144/1024\n",
            "38/38 [==============================] - ETA: 0s - loss: 0.7733 - accuracy: 0.7128\n",
            "Epoch 144: val_loss did not improve from 1.09431\n",
            "38/38 [==============================] - 22s 562ms/step - loss: 0.7733 - accuracy: 0.7128 - val_loss: 1.1521 - val_accuracy: 0.6292\n",
            "Epoch 145/1024\n",
            "38/38 [==============================] - ETA: 0s - loss: 0.7649 - accuracy: 0.7213\n",
            "Epoch 145: val_loss did not improve from 1.09431\n",
            "38/38 [==============================] - 21s 548ms/step - loss: 0.7649 - accuracy: 0.7213 - val_loss: 1.1334 - val_accuracy: 0.6293\n",
            "Epoch 146/1024\n",
            "38/38 [==============================] - ETA: 0s - loss: 0.7504 - accuracy: 0.7244\n",
            "Epoch 146: val_loss improved from 1.09431 to 1.09398, saving model to vgg16_1.h5\n",
            "38/38 [==============================] - 24s 609ms/step - loss: 0.7504 - accuracy: 0.7244 - val_loss: 1.0940 - val_accuracy: 0.6338\n",
            "Epoch 147/1024\n",
            "38/38 [==============================] - ETA: 0s - loss: 0.7529 - accuracy: 0.7268\n",
            "Epoch 147: val_loss improved from 1.09398 to 1.08471, saving model to vgg16_1.h5\n",
            "38/38 [==============================] - 23s 598ms/step - loss: 0.7529 - accuracy: 0.7268 - val_loss: 1.0847 - val_accuracy: 0.6424\n",
            "Epoch 148/1024\n",
            "38/38 [==============================] - ETA: 0s - loss: 0.7432 - accuracy: 0.7271\n",
            "Epoch 148: val_loss improved from 1.08471 to 1.05788, saving model to vgg16_1.h5\n",
            "38/38 [==============================] - 23s 585ms/step - loss: 0.7432 - accuracy: 0.7271 - val_loss: 1.0579 - val_accuracy: 0.6519\n",
            "Epoch 149/1024\n",
            "38/38 [==============================] - ETA: 0s - loss: 0.7408 - accuracy: 0.7268\n",
            "Epoch 149: val_loss did not improve from 1.05788\n",
            "38/38 [==============================] - 23s 589ms/step - loss: 0.7408 - accuracy: 0.7268 - val_loss: 1.1988 - val_accuracy: 0.6174\n",
            "Epoch 150/1024\n",
            "38/38 [==============================] - ETA: 0s - loss: 0.7326 - accuracy: 0.7334\n",
            "Epoch 150: val_loss did not improve from 1.05788\n",
            "38/38 [==============================] - 22s 556ms/step - loss: 0.7326 - accuracy: 0.7334 - val_loss: 1.0939 - val_accuracy: 0.6408\n",
            "Epoch 151/1024\n",
            "38/38 [==============================] - ETA: 0s - loss: 0.7225 - accuracy: 0.7357\n",
            "Epoch 151: val_loss did not improve from 1.05788\n",
            "38/38 [==============================] - 22s 559ms/step - loss: 0.7225 - accuracy: 0.7357 - val_loss: 1.0884 - val_accuracy: 0.6426\n",
            "Epoch 152/1024\n",
            "38/38 [==============================] - ETA: 0s - loss: 0.7180 - accuracy: 0.7353\n",
            "Epoch 152: val_loss did not improve from 1.05788\n",
            "38/38 [==============================] - 23s 586ms/step - loss: 0.7180 - accuracy: 0.7353 - val_loss: 1.1379 - val_accuracy: 0.6319\n",
            "Epoch 153/1024\n",
            "38/38 [==============================] - ETA: 0s - loss: 0.7052 - accuracy: 0.7423\n",
            "Epoch 153: val_loss improved from 1.05788 to 1.05214, saving model to vgg16_1.h5\n",
            "38/38 [==============================] - 24s 610ms/step - loss: 0.7052 - accuracy: 0.7423 - val_loss: 1.0521 - val_accuracy: 0.6550\n",
            "Epoch 154/1024\n",
            "38/38 [==============================] - ETA: 0s - loss: 0.6972 - accuracy: 0.7455\n",
            "Epoch 154: val_loss did not improve from 1.05214\n",
            "38/38 [==============================] - 23s 591ms/step - loss: 0.6972 - accuracy: 0.7455 - val_loss: 1.1255 - val_accuracy: 0.6396\n",
            "Epoch 155/1024\n",
            "38/38 [==============================] - ETA: 0s - loss: 0.7045 - accuracy: 0.7412\n",
            "Epoch 155: val_loss did not improve from 1.05214\n",
            "38/38 [==============================] - 22s 574ms/step - loss: 0.7045 - accuracy: 0.7412 - val_loss: 1.0843 - val_accuracy: 0.6454\n",
            "Epoch 156/1024\n",
            "38/38 [==============================] - ETA: 0s - loss: 0.7106 - accuracy: 0.7403\n",
            "Epoch 156: val_loss did not improve from 1.05214\n",
            "38/38 [==============================] - 21s 554ms/step - loss: 0.7106 - accuracy: 0.7403 - val_loss: 1.0691 - val_accuracy: 0.6553\n",
            "Epoch 157/1024\n",
            "38/38 [==============================] - ETA: 0s - loss: 0.6854 - accuracy: 0.7512\n",
            "Epoch 157: val_loss did not improve from 1.05214\n",
            "38/38 [==============================] - 21s 551ms/step - loss: 0.6854 - accuracy: 0.7512 - val_loss: 1.1354 - val_accuracy: 0.6380\n",
            "Epoch 158/1024\n",
            "38/38 [==============================] - ETA: 0s - loss: 0.6831 - accuracy: 0.7507\n",
            "Epoch 158: val_loss did not improve from 1.05214\n",
            "38/38 [==============================] - 23s 587ms/step - loss: 0.6831 - accuracy: 0.7507 - val_loss: 1.0960 - val_accuracy: 0.6466\n",
            "Epoch 159/1024\n",
            "38/38 [==============================] - ETA: 0s - loss: 0.6716 - accuracy: 0.7540\n",
            "Epoch 159: val_loss improved from 1.05214 to 1.04316, saving model to vgg16_1.h5\n",
            "38/38 [==============================] - 22s 574ms/step - loss: 0.6716 - accuracy: 0.7540 - val_loss: 1.0432 - val_accuracy: 0.6656\n",
            "Epoch 160/1024\n",
            "38/38 [==============================] - ETA: 0s - loss: 0.6736 - accuracy: 0.7523\n",
            "Epoch 160: val_loss did not improve from 1.04316\n",
            "38/38 [==============================] - 23s 584ms/step - loss: 0.6736 - accuracy: 0.7523 - val_loss: 1.0870 - val_accuracy: 0.6495\n",
            "Epoch 161/1024\n",
            "38/38 [==============================] - ETA: 0s - loss: 0.6738 - accuracy: 0.7561\n",
            "Epoch 161: val_loss improved from 1.04316 to 1.00496, saving model to vgg16_1.h5\n",
            "38/38 [==============================] - 23s 605ms/step - loss: 0.6738 - accuracy: 0.7561 - val_loss: 1.0050 - val_accuracy: 0.6674\n",
            "Epoch 162/1024\n",
            "38/38 [==============================] - ETA: 0s - loss: 0.6772 - accuracy: 0.7527\n",
            "Epoch 162: val_loss did not improve from 1.00496\n",
            "38/38 [==============================] - 22s 553ms/step - loss: 0.6772 - accuracy: 0.7527 - val_loss: 1.1051 - val_accuracy: 0.6412\n",
            "Epoch 163/1024\n",
            "38/38 [==============================] - ETA: 0s - loss: 0.6702 - accuracy: 0.7562\n",
            "Epoch 163: val_loss did not improve from 1.00496\n",
            "38/38 [==============================] - 22s 573ms/step - loss: 0.6702 - accuracy: 0.7562 - val_loss: 1.1278 - val_accuracy: 0.6425\n",
            "Epoch 164/1024\n",
            "38/38 [==============================] - ETA: 0s - loss: 0.6524 - accuracy: 0.7621\n",
            "Epoch 164: val_loss did not improve from 1.00496\n",
            "38/38 [==============================] - 21s 554ms/step - loss: 0.6524 - accuracy: 0.7621 - val_loss: 1.1119 - val_accuracy: 0.6590\n",
            "Epoch 165/1024\n",
            "38/38 [==============================] - ETA: 0s - loss: 0.6452 - accuracy: 0.7638\n",
            "Epoch 165: val_loss did not improve from 1.00496\n",
            "38/38 [==============================] - 22s 567ms/step - loss: 0.6452 - accuracy: 0.7638 - val_loss: 1.1243 - val_accuracy: 0.6441\n",
            "Epoch 166/1024\n",
            "38/38 [==============================] - ETA: 0s - loss: 0.6418 - accuracy: 0.7635\n",
            "Epoch 166: val_loss did not improve from 1.00496\n",
            "38/38 [==============================] - 23s 586ms/step - loss: 0.6418 - accuracy: 0.7635 - val_loss: 1.0753 - val_accuracy: 0.6635\n",
            "Epoch 167/1024\n",
            "38/38 [==============================] - ETA: 0s - loss: 0.6376 - accuracy: 0.7641\n",
            "Epoch 167: val_loss did not improve from 1.00496\n",
            "38/38 [==============================] - 22s 576ms/step - loss: 0.6376 - accuracy: 0.7641 - val_loss: 1.1466 - val_accuracy: 0.6464\n",
            "Epoch 168/1024\n",
            "38/38 [==============================] - ETA: 0s - loss: 0.6159 - accuracy: 0.7742\n",
            "Epoch 168: val_loss did not improve from 1.00496\n",
            "38/38 [==============================] - 22s 559ms/step - loss: 0.6159 - accuracy: 0.7742 - val_loss: 1.0957 - val_accuracy: 0.6562\n",
            "Epoch 169/1024\n",
            "38/38 [==============================] - ETA: 0s - loss: 0.6130 - accuracy: 0.7748\n",
            "Epoch 169: val_loss did not improve from 1.00496\n",
            "38/38 [==============================] - 23s 585ms/step - loss: 0.6130 - accuracy: 0.7748 - val_loss: 1.0752 - val_accuracy: 0.6658\n",
            "Epoch 170/1024\n",
            "38/38 [==============================] - ETA: 0s - loss: 0.6117 - accuracy: 0.7791\n",
            "Epoch 170: val_loss did not improve from 1.00496\n",
            "38/38 [==============================] - 22s 560ms/step - loss: 0.6117 - accuracy: 0.7791 - val_loss: 1.0700 - val_accuracy: 0.6602\n",
            "Epoch 171/1024\n",
            "38/38 [==============================] - ETA: 0s - loss: 0.6028 - accuracy: 0.7833\n",
            "Epoch 171: val_loss did not improve from 1.00496\n",
            "38/38 [==============================] - 22s 575ms/step - loss: 0.6028 - accuracy: 0.7833 - val_loss: 1.0580 - val_accuracy: 0.6678\n",
            "Epoch 172/1024\n",
            "38/38 [==============================] - ETA: 0s - loss: 0.5986 - accuracy: 0.7859\n",
            "Epoch 172: val_loss did not improve from 1.00496\n",
            "38/38 [==============================] - 22s 552ms/step - loss: 0.5986 - accuracy: 0.7859 - val_loss: 1.0957 - val_accuracy: 0.6599\n",
            "Epoch 173/1024\n",
            "38/38 [==============================] - ETA: 0s - loss: 0.6045 - accuracy: 0.7825\n",
            "Epoch 173: val_loss did not improve from 1.00496\n",
            "38/38 [==============================] - 22s 568ms/step - loss: 0.6045 - accuracy: 0.7825 - val_loss: 1.0603 - val_accuracy: 0.6635\n",
            "Epoch 174/1024\n",
            "38/38 [==============================] - ETA: 0s - loss: 0.6005 - accuracy: 0.7815\n",
            "Epoch 174: val_loss did not improve from 1.00496\n",
            "38/38 [==============================] - 22s 554ms/step - loss: 0.6005 - accuracy: 0.7815 - val_loss: 1.0350 - val_accuracy: 0.6694\n",
            "Epoch 175/1024\n",
            "38/38 [==============================] - ETA: 0s - loss: 0.5849 - accuracy: 0.7855\n",
            "Epoch 175: val_loss did not improve from 1.00496\n",
            "38/38 [==============================] - 22s 573ms/step - loss: 0.5849 - accuracy: 0.7855 - val_loss: 1.1243 - val_accuracy: 0.6499\n",
            "Epoch 176/1024\n",
            "38/38 [==============================] - ETA: 0s - loss: 0.5771 - accuracy: 0.7872\n",
            "Epoch 176: val_loss did not improve from 1.00496\n",
            "38/38 [==============================] - 22s 566ms/step - loss: 0.5771 - accuracy: 0.7872 - val_loss: 1.0310 - val_accuracy: 0.6824\n",
            "Epoch 177/1024\n",
            "38/38 [==============================] - ETA: 0s - loss: 0.5910 - accuracy: 0.7835\n",
            "Epoch 177: val_loss did not improve from 1.00496\n",
            "38/38 [==============================] - 22s 553ms/step - loss: 0.5910 - accuracy: 0.7835 - val_loss: 1.0683 - val_accuracy: 0.6688\n",
            "Epoch 178/1024\n",
            "38/38 [==============================] - ETA: 0s - loss: 0.5810 - accuracy: 0.7880\n",
            "Epoch 178: val_loss did not improve from 1.00496\n",
            "38/38 [==============================] - 23s 593ms/step - loss: 0.5810 - accuracy: 0.7880 - val_loss: 1.0064 - val_accuracy: 0.6811\n",
            "Epoch 179/1024\n",
            "38/38 [==============================] - ETA: 0s - loss: 0.5775 - accuracy: 0.7922\n",
            "Epoch 179: val_loss did not improve from 1.00496\n",
            "38/38 [==============================] - 21s 551ms/step - loss: 0.5775 - accuracy: 0.7922 - val_loss: 1.0669 - val_accuracy: 0.6705\n",
            "Epoch 180/1024\n",
            "38/38 [==============================] - ETA: 0s - loss: 0.5764 - accuracy: 0.7895\n",
            "Epoch 180: val_loss did not improve from 1.00496\n",
            "38/38 [==============================] - 22s 560ms/step - loss: 0.5764 - accuracy: 0.7895 - val_loss: 1.0954 - val_accuracy: 0.6654\n",
            "Epoch 181/1024\n",
            "38/38 [==============================] - ETA: 0s - loss: 0.5603 - accuracy: 0.7964\n",
            "Epoch 181: val_loss did not improve from 1.00496\n",
            "Restoring model weights from the end of the best epoch: 161.\n",
            "38/38 [==============================] - 23s 594ms/step - loss: 0.5603 - accuracy: 0.7964 - val_loss: 1.0872 - val_accuracy: 0.6702\n",
            "Epoch 181: early stopping\n"
          ]
        }
      ]
    },
    {
      "cell_type": "markdown",
      "source": [
        "## Let's visualize the results"
      ],
      "metadata": {
        "id": "M5im07My2Wmz"
      }
    },
    {
      "cell_type": "markdown",
      "source": [
        "### Plot loss"
      ],
      "metadata": {
        "id": "ajm1Jl532pIs"
      }
    },
    {
      "cell_type": "code",
      "source": [
        "plt.plot(history.history['loss'])\n",
        "plt.plot(history.history['val_loss'])\n",
        "plt.title(\"Model Loss\")\n",
        "plt.ylabel(\"Loss\")\n",
        "plt.xlabel(\"Epoch\")\n",
        "plt.legend([\"loss\",\"Validation Loss\"])\n",
        "plt.show()"
      ],
      "metadata": {
        "id": "-iiANgUa2rhF",
        "colab": {
          "base_uri": "https://localhost:8080/",
          "height": 472
        },
        "outputId": "da674aba-029d-4792-eebf-dec1cd6602a0"
      },
      "execution_count": 16,
      "outputs": [
        {
          "output_type": "display_data",
          "data": {
            "text/plain": [
              "<Figure size 640x480 with 1 Axes>"
            ],
            "image/png": "[encoded data removed]"
          },
          "metadata": {}
        }
      ]
    },
    {
      "cell_type": "markdown",
      "source": [
        "### Plot accuracy"
      ],
      "metadata": {
        "id": "cS9HgJ1w2lpW"
      }
    },
    {
      "cell_type": "code",
      "source": [
        "plt.plot(history.history[\"accuracy\"])\n",
        "plt.plot(history.history['val_accuracy'])\n",
        "plt.title(\"Model accuracy\")\n",
        "plt.ylabel(\"Accuracy\")\n",
        "plt.xlabel(\"Epoch\")\n",
        "plt.legend([\"Accuracy\",\"Validation Accuracy\"])\n",
        "plt.show()"
      ],
      "metadata": {
        "id": "4PW1Dk5zf5sI",
        "colab": {
          "base_uri": "https://localhost:8080/",
          "height": 472
        },
        "outputId": "c6073fbd-1ff1-4d09-da1a-c7078c321724"
      },
      "execution_count": 17,
      "outputs": [
        {
          "output_type": "display_data",
          "data": {
            "text/plain": [
              "<Figure size 640x480 with 1 Axes>"
            ],
            "image/png": "[encoded data removed]"
          },
          "metadata": {}
        }
      ]
    },
    {
      "cell_type": "markdown",
      "source": [
        "## Evaluate Test dataset"
      ],
      "metadata": {
        "id": "ugcCbGSm20q3"
      }
    },
    {
      "cell_type": "code",
      "source": [
        "model.evaluate(\n",
        "    test_dataset,\n",
        "    batch_size=batch_size,\n",
        "    use_multiprocessing=True,\n",
        "    workers=2,\n",
        ")"
      ],
      "metadata": {
        "id": "JuDp71Y224Rt",
        "colab": {
          "base_uri": "https://localhost:8080/"
        },
        "outputId": "45b6f56f-49cc-4629-da77-ee497b792fea"
      },
      "execution_count": 18,
      "outputs": [
        {
          "output_type": "stream",
          "name": "stdout",
          "text": [
            "28/28 [==============================] - 4s 123ms/step - loss: 1.0050 - accuracy: 0.6674\n"
          ]
        },
        {
          "output_type": "execute_result",
          "data": {
            "text/plain": [
              "[1.004956603050232, 0.6673907041549683]"
            ]
          },
          "metadata": {},
          "execution_count": 18
        }
      ]
    }
  ]
}