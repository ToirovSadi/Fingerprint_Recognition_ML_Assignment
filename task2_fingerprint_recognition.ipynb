{
  "cells": [
    {
      "cell_type": "markdown",
      "metadata": {
        "id": "_8HddTR7UdwG"
      },
      "source": [
        "## Import Libraries"
      ]
    },
    {
      "cell_type": "code",
      "execution_count": 1,
      "metadata": {
        "id": "whhRv_o0UWVq"
      },
      "outputs": [],
      "source": [
        "import os\n",
        "\n",
        "import pandas as pd\n",
        "import numpy as np\n",
        "import matplotlib.pyplot as plt\n",
        "\n",
        "import tensorflow as tf\n",
        "from tensorflow import keras\n",
        "from keras import layers\n",
        "from tensorflow.keras.utils import image_dataset_from_directory"
      ]
    },
    {
      "cell_type": "markdown",
      "metadata": {
        "id": "8vCE8BOyUUpO"
      },
      "source": [
        "## Let's import data from google drive"
      ]
    },
    {
      "cell_type": "markdown",
      "metadata": {
        "id": "h_MIGOLKwm94"
      },
      "source": [
        "### You can find the zip file in [link](https://drive.google.com/file/d/1kCosTCBz4ArgNQS2hnq1zASCFFccW00V/view?usp=share_link)"
      ]
    },
    {
      "cell_type": "code",
      "execution_count": 2,
      "metadata": {
        "colab": {
          "base_uri": "https://localhost:8080/"
        },
        "id": "47roku1RXMj3",
        "outputId": "6d5eaac9-91d7-42ac-c310-ac73d8fcc50c"
      },
      "outputs": [
        {
          "name": "stdout",
          "output_type": "stream",
          "text": [
            "Mounted at /content/drive\n"
          ]
        }
      ],
      "source": [
        "from google.colab import drive\n",
        "drive.mount('/content/drive')"
      ]
    },
    {
      "cell_type": "code",
      "execution_count": 5,
      "metadata": {
        "id": "ibhZAbn8XZWU"
      },
      "outputs": [],
      "source": [
        "file_path = '/content/drive/MyDrive/Shared FIles/task_2.zip'\n",
        "!cp '{file_path}' ."
      ]
    },
    {
      "cell_type": "markdown",
      "metadata": {
        "id": "5v_e0xJ-n5C2"
      },
      "source": [
        "## Let's unzip task_2.zip file"
      ]
    },
    {
      "cell_type": "code",
      "execution_count": null,
      "metadata": {
        "id": "OL3HFHO1VA7y"
      },
      "outputs": [],
      "source": [
        "!unzip task_2.zip\n",
        "!rm task_2.zip -rf\n",
        "!unzip train.zip\n",
        "!rm train.zip -rf\n",
        "!unzip test.zip\n",
        "!rm test.zip -rf\n",
        "!mv content/test .\n",
        "!rm content -rf\n",
        "\n",
        "# now we should have test and train folder, with lots of images"
      ]
    },
    {
      "cell_type": "markdown",
      "metadata": {
        "id": "iaaA6BYJ4UYF"
      },
      "source": [
        "After above code your directory structure should be like this:\n",
        "```bash\n",
        "/\n",
        "├── fingerprint_recognition.ipynb\n",
        "├── test/\n",
        "│   ├── image_1.jpg\n",
        "│   ├── image_2.jpg\n",
        "│   ├── ...\n",
        "│   └── image_n.jpg\n",
        "└── train/\n",
        "    ├── image_1.jpg\n",
        "    ├── image_2.jpg\n",
        "    ├── ...\n",
        "    └── image_n.jpg\n",
        "```"
      ]
    },
    {
      "cell_type": "markdown",
      "metadata": {
        "id": "4z6Qb9X9nA6T"
      },
      "source": [
        "## Distribute images according to their labels to different files\n",
        "\n",
        "Needed from image_dataset_from_directory()"
      ]
    },
    {
      "cell_type": "code",
      "execution_count": 7,
      "metadata": {
        "id": "yhWURdFt7j7w"
      },
      "outputs": [],
      "source": [
        "import shutil\n",
        "\n",
        "def import_files(dir='train'):\n",
        "  if dir != 'train' and dir != 'test':\n",
        "    print('W:import_files(dir): dir should be either train or test')\n",
        "    return\n",
        "\n",
        "  root = 'data'\n",
        "  if not os.path.exists(root):\n",
        "    os.makedirs(root)\n",
        "  new_train = f'data/{dir}'\n",
        "  for filename in os.listdir(dir):\n",
        "    id, target = filename.split('_')\n",
        "    target = int(target.split('.')[0])\n",
        "\n",
        "    dir_path = f'{new_train}/{target}'\n",
        "    if not os.path.exists(dir_path):\n",
        "      os.makedirs(dir_path)\n",
        "\n",
        "    bmp = filename.endswith('.bmp')\n",
        "    src_file = f'{dir}/{filename}'\n",
        "    dest_file = f'{dir_path}/{filename}' + ('' if bmp else '.bmp')\n",
        "\n",
        "    shutil.copy(src_file, dest_file)\n"
      ]
    },
    {
      "cell_type": "markdown",
      "metadata": {
        "id": "lS0U0iDur1wm"
      },
      "source": [
        "### Import train and test files"
      ]
    },
    {
      "cell_type": "code",
      "execution_count": 8,
      "metadata": {
        "id": "7crlPKoylYcG"
      },
      "outputs": [],
      "source": [
        "import_files('train')\n",
        "import_files('test')"
      ]
    },
    {
      "cell_type": "markdown",
      "metadata": {
        "id": "dOumad1L4xix"
      },
      "source": [
        "After distribution you should have directory structure like this:\n",
        "```bash\n",
        "/\n",
        "├── fingerprint_recognition.ipynb\n",
        "└── data/\n",
        "    ├── train/\n",
        "    │   ├── 0/\n",
        "    │   │   ├── image_1.jpg\n",
        "    │   │   ├── ...\n",
        "    │   │   └── image_n.jpg\n",
        "    │   ├── 1/\n",
        "    │   │   ├── image_1.jpg\n",
        "    │   │   ├── ...\n",
        "    │   │   └── image_n.jpg\n",
        "    │   ├── 2/\n",
        "    │   ├── ...\n",
        "    │   └── 9/\n",
        "    │   │   ├── image_1.jpg\n",
        "    │   │   ├── ...\n",
        "    │   │   └── image_n.jpg\n",
        "    ├── test/\n",
        "    │   ├── 0/\n",
        "    │   │   ├── image_1.jpg\n",
        "    │   │   ├── ...\n",
        "    │   │   └── image_n.jpg\n",
        "    │   ├── 1/\n",
        "    │   │   ├── image_1.jpg\n",
        "    │   │   ├── ...\n",
        "    │   │   └── image_n.jpg\n",
        "    │   ├── 2/\n",
        "    │   ├── ...\n",
        "    │   └── 9/\n",
        "    │   │   ├── image_1.jpg\n",
        "    │   │   ├── ...\n",
        "    │   │   └── image_n.jpg\n",
        "    └── ...\n",
        "```"
      ]
    },
    {
      "cell_type": "markdown",
      "metadata": {
        "id": "PQTOxHwz3SUa"
      },
      "source": [
        "## Let see if we have balanced dataset"
      ]
    },
    {
      "cell_type": "code",
      "execution_count": 9,
      "metadata": {
        "colab": {
          "base_uri": "https://localhost:8080/",
          "height": 564
        },
        "id": "uCvuIZUr3Vim",
        "outputId": "2e125fa3-4808-485f-e083-2a7598a93e80"
      },
      "outputs": [
        {
          "data": {
            "image/png": "[encoded data removed]",
            "text/plain": [
              "<Figure size 1200x600 with 2 Axes>"
            ]
          },
          "metadata": {},
          "output_type": "display_data"
        }
      ],
      "source": [
        "def plot_hist_classes(dir):\n",
        "\n",
        "  n_samples = np.zeros(10)\n",
        "  for class_dir in os.listdir(dir):\n",
        "    if not os.path.isdir(os.path.join(dir, class_dir)):\n",
        "      print('E:plot_hist_classes(dir): expected to find in `dir` only directories')\n",
        "      return\n",
        "    num_files = len([f for f in os.listdir(os.path.join(dir, class_dir))])\n",
        "\n",
        "    n_samples[int(class_dir)] = num_files\n",
        "\n",
        "  plt.bar(range(len(n_samples)), n_samples)\n",
        "\n",
        "\n",
        "plt.figure(figsize=(12, 6))\n",
        "plt.subplot(1, 2, 1)\n",
        "plt.title('Train Hist')\n",
        "plt.xlabel('classes')\n",
        "plt.ylabel('# images')\n",
        "plot_hist_classes('data/train')\n",
        "\n",
        "plt.subplot(1, 2, 2)\n",
        "plt.title('Test Hist')\n",
        "plt.xlabel('classes')\n",
        "plt.ylabel('# images')\n",
        "plot_hist_classes('data/test')\n",
        "plt.show()"
      ]
    },
    {
      "cell_type": "markdown",
      "metadata": {
        "id": "gHD5TdJU5R1C"
      },
      "source": [
        "### Okay, our dataset is more or less balanced, which is good"
      ]
    },
    {
      "cell_type": "markdown",
      "metadata": {
        "id": "yz855M8Pr7Uq"
      },
      "source": [
        "## Create train and test Datasets"
      ]
    },
    {
      "cell_type": "code",
      "execution_count": 4,
      "metadata": {
        "colab": {
          "base_uri": "https://localhost:8080/"
        },
        "id": "XnDDU2FqqV72",
        "outputId": "cfd4a775-f5fb-4ebd-d241-8ee32fdedd82"
      },
      "outputs": [
        {
          "name": "stdout",
          "output_type": "stream",
          "text": [
            "Found 19413 files belonging to 10 classes.\n",
            "Using 15531 files for training.\n",
            "Using 3882 files for validation.\n",
            "Found 14272 files belonging to 10 classes.\n"
          ]
        }
      ],
      "source": [
        "batch_size = 512\n",
        "img_size = (100, 100)\n",
        "\n",
        "train_dir = 'data/train'\n",
        "train_dataset, val_dataset = image_dataset_from_directory(\n",
        "    train_dir,\n",
        "    batch_size=batch_size,\n",
        "    image_size=img_size,\n",
        "    validation_split=0.2,\n",
        "    subset='both',\n",
        "    seed=123,\n",
        ")\n",
        "\n",
        "test_dir = 'data/test'\n",
        "test_dataset = image_dataset_from_directory(\n",
        "    test_dir,\n",
        "    batch_size=batch_size,\n",
        "    image_size=img_size,\n",
        ")\n"
      ]
    },
    {
      "cell_type": "markdown",
      "metadata": {
        "id": "f3IKJP7BsBJB"
      },
      "source": [
        "## Create preprocessing layer"
      ]
    },
    {
      "cell_type": "code",
      "execution_count": 5,
      "metadata": {
        "id": "TktdzRaVsJqz"
      },
      "outputs": [],
      "source": [
        "preprocessing = keras.Sequential([\n",
        "    layers.RandomBrightness(0.2),\n",
        "    layers.RandomRotation(0.2),\n",
        "    layers.Rescaling(1./255),\n",
        "])\n",
        "\n",
        "classes = 10"
      ]
    },
    {
      "cell_type": "markdown",
      "metadata": {
        "id": "Nqiw6QwFucO1"
      },
      "source": [
        "## Define the model architecture\n",
        "\n",
        "[This](https://arxiv.org/pdf/1409.1556.pdf) research paper provides good architerture for IMAGE RECOGNITION.\n",
        "\n"
      ]
    },
    {
      "cell_type": "code",
      "execution_count": 15,
      "metadata": {
        "id": "G6Ed_rwCuhF6"
      },
      "outputs": [],
      "source": [
        "model = keras.Sequential([\n",
        "  preprocessing,\n",
        "\n",
        "  layers.Conv2D(64, kernel_size=(3, 3), activation='relu'),\n",
        "  layers.MaxPool2D(pool_size=(2,2),strides=(2,2)),\n",
        "  \n",
        "  layers.Conv2D(128, kernel_size=(3, 3), activation='relu'),\n",
        "  layers.MaxPool2D(pool_size=(2, 2) ,strides=(2, 2)),\n",
        "\n",
        "  layers.Conv2D(256, kernel_size=(3, 3), activation='relu'),\n",
        "  layers.Conv2D(256, kernel_size=(3, 3), activation='relu'),\n",
        "  layers.MaxPool2D(pool_size=(2, 2), strides=(2, 2)),\n",
        "\n",
        "  layers.Flatten(),\n",
        "  layers.Dense(1024, activation='relu'),\n",
        "  layers.Dropout(0.4),\n",
        "  layers.Dense(1024, activation='relu'),\n",
        "  layers.Dropout(0.4),\n",
        "  layers.Dense(classes, activation='softmax'),\n",
        "])"
      ]
    },
    {
      "cell_type": "code",
      "execution_count": 16,
      "metadata": {
        "id": "4MpQofrF9mBq"
      },
      "outputs": [],
      "source": [
        "model.build((None, img_size[0], img_size[1], 3))"
      ]
    },
    {
      "cell_type": "code",
      "execution_count": 17,
      "metadata": {
        "colab": {
          "base_uri": "https://localhost:8080/"
        },
        "id": "ypoMEb9bClnR",
        "outputId": "4fe81453-fb03-42bc-900d-0a72798bccd5"
      },
      "outputs": [
        {
          "name": "stdout",
          "output_type": "stream",
          "text": [
            "Model: \"sequential_2\"\n",
            "_________________________________________________________________\n",
            " Layer (type)                Output Shape              Param #   \n",
            "=================================================================\n",
            " sequential (Sequential)     (None, 100, 100, 3)       0         \n",
            "                                                                 \n",
            " conv2d_6 (Conv2D)           (None, 98, 98, 64)        1792      \n",
            "                                                                 \n",
            " max_pooling2d_4 (MaxPooling  (None, 49, 49, 64)       0         \n",
            " 2D)                                                             \n",
            "                                                                 \n",
            " conv2d_7 (Conv2D)           (None, 47, 47, 128)       73856     \n",
            "                                                                 \n",
            " max_pooling2d_5 (MaxPooling  (None, 23, 23, 128)      0         \n",
            " 2D)                                                             \n",
            "                                                                 \n",
            " conv2d_8 (Conv2D)           (None, 21, 21, 256)       295168    \n",
            "                                                                 \n",
            " conv2d_9 (Conv2D)           (None, 19, 19, 256)       590080    \n",
            "                                                                 \n",
            " max_pooling2d_6 (MaxPooling  (None, 9, 9, 256)        0         \n",
            " 2D)                                                             \n",
            "                                                                 \n",
            " flatten_1 (Flatten)         (None, 20736)             0         \n",
            "                                                                 \n",
            " dense_3 (Dense)             (None, 1024)              21234688  \n",
            "                                                                 \n",
            " dropout_2 (Dropout)         (None, 1024)              0         \n",
            "                                                                 \n",
            " dense_4 (Dense)             (None, 1024)              1049600   \n",
            "                                                                 \n",
            " dropout_3 (Dropout)         (None, 1024)              0         \n",
            "                                                                 \n",
            " dense_5 (Dense)             (None, 10)                10250     \n",
            "                                                                 \n",
            "=================================================================\n",
            "Total params: 23,255,434\n",
            "Trainable params: 23,255,434\n",
            "Non-trainable params: 0\n",
            "_________________________________________________________________\n"
          ]
        }
      ],
      "source": [
        "model.summary()"
      ]
    },
    {
      "cell_type": "markdown",
      "metadata": {
        "id": "TCuMMUxNxSqB"
      },
      "source": [
        "## Compile the model"
      ]
    },
    {
      "cell_type": "code",
      "execution_count": 18,
      "metadata": {
        "id": "vdBkDQIAxJfH"
      },
      "outputs": [],
      "source": [
        "learning_rate = 0.001\n",
        "epochs = 1024\n",
        "\n",
        "optimizer = keras.optimizers.AdamW(learning_rate=learning_rate)\n",
        "loss = keras.losses.sparse_categorical_crossentropy\n",
        "metrics=['accuracy']\n",
        "\n",
        "model.compile(\n",
        "    optimizer=optimizer,\n",
        "    loss=loss,\n",
        "    metrics=metrics\n",
        ")"
      ]
    },
    {
      "cell_type": "markdown",
      "metadata": {
        "id": "uNG51OFExszV"
      },
      "source": [
        "## Create Callbacks\n"
      ]
    },
    {
      "cell_type": "code",
      "execution_count": 20,
      "metadata": {
        "id": "tqLMHStGxxZX"
      },
      "outputs": [],
      "source": [
        "from keras.callbacks import ModelCheckpoint, EarlyStopping\n",
        "\n",
        "checkpoint = keras.callbacks.ModelCheckpoint(\n",
        "    \"vgg13_4.h5\",\n",
        "    monitor='val_loss',\n",
        "    verbose=1,\n",
        "    save_best_only=True,\n",
        "    save_weights_only=False,\n",
        "    mode='auto',\n",
        "    save_freq='epoch'\n",
        ")\n",
        "\n",
        "\n",
        "early = keras.callbacks.EarlyStopping(\n",
        "    monitor='val_loss',\n",
        "    restore_best_weights=True,\n",
        "    min_delta=0,\n",
        "    patience=20,\n",
        "    verbose=1,\n",
        "    mode='auto'\n",
        ")"
      ]
    },
    {
      "cell_type": "markdown",
      "metadata": {
        "id": "K1uGZRXWyA29"
      },
      "source": [
        "## Fit the model"
      ]
    },
    {
      "cell_type": "code",
      "execution_count": 21,
      "metadata": {
        "colab": {
          "base_uri": "https://localhost:8080/"
        },
        "id": "F1Zv1vnIyBLJ",
        "outputId": "b333bbef-e2f0-4e32-d7c0-9798e264d49e"
      },
      "outputs": [
        {
          "name": "stdout",
          "output_type": "stream",
          "text": [
            "Epoch 1/1024\n",
            "31/31 [==============================] - ETA: 0s - loss: 2.2796 - accuracy: 0.1297\n",
            "Epoch 1: val_loss improved from inf to 2.09699, saving model to vgg13_4.h5\n",
            "31/31 [==============================] - 19s 459ms/step - loss: 2.2796 - accuracy: 0.1297 - val_loss: 2.0970 - val_accuracy: 0.1960\n",
            "Epoch 2/1024\n",
            "31/31 [==============================] - ETA: 0s - loss: 2.0892 - accuracy: 0.2203\n",
            "Epoch 2: val_loss did not improve from 2.09699\n",
            "31/31 [==============================] - 14s 414ms/step - loss: 2.0892 - accuracy: 0.2203 - val_loss: 2.2830 - val_accuracy: 0.2020\n",
            "Epoch 3/1024\n",
            "31/31 [==============================] - ETA: 0s - loss: 1.9945 - accuracy: 0.2686\n",
            "Epoch 3: val_loss improved from 2.09699 to 1.81019, saving model to vgg13_4.h5\n",
            "31/31 [==============================] - 15s 446ms/step - loss: 1.9945 - accuracy: 0.2686 - val_loss: 1.8102 - val_accuracy: 0.3207\n",
            "Epoch 4/1024\n",
            "31/31 [==============================] - ETA: 0s - loss: 1.8676 - accuracy: 0.3110\n",
            "Epoch 4: val_loss did not improve from 1.81019\n",
            "31/31 [==============================] - 14s 412ms/step - loss: 1.8676 - accuracy: 0.3110 - val_loss: 1.8233 - val_accuracy: 0.3241\n",
            "Epoch 5/1024\n",
            "31/31 [==============================] - ETA: 0s - loss: 1.7676 - accuracy: 0.3514\n",
            "Epoch 5: val_loss improved from 1.81019 to 1.64907, saving model to vgg13_4.h5\n",
            "31/31 [==============================] - 15s 449ms/step - loss: 1.7676 - accuracy: 0.3514 - val_loss: 1.6491 - val_accuracy: 0.3941\n",
            "Epoch 6/1024\n",
            "31/31 [==============================] - ETA: 0s - loss: 1.6519 - accuracy: 0.3986\n",
            "Epoch 6: val_loss improved from 1.64907 to 1.60751, saving model to vgg13_4.h5\n",
            "31/31 [==============================] - 14s 441ms/step - loss: 1.6519 - accuracy: 0.3986 - val_loss: 1.6075 - val_accuracy: 0.4183\n",
            "Epoch 7/1024\n",
            "31/31 [==============================] - ETA: 0s - loss: 1.5737 - accuracy: 0.4295\n",
            "Epoch 7: val_loss improved from 1.60751 to 1.44039, saving model to vgg13_4.h5\n",
            "31/31 [==============================] - 15s 444ms/step - loss: 1.5737 - accuracy: 0.4295 - val_loss: 1.4404 - val_accuracy: 0.4699\n",
            "Epoch 8/1024\n",
            "31/31 [==============================] - ETA: 0s - loss: 1.5180 - accuracy: 0.4532\n",
            "Epoch 8: val_loss improved from 1.44039 to 1.42389, saving model to vgg13_4.h5\n",
            "31/31 [==============================] - 15s 457ms/step - loss: 1.5180 - accuracy: 0.4532 - val_loss: 1.4239 - val_accuracy: 0.4732\n",
            "Epoch 9/1024\n",
            "31/31 [==============================] - ETA: 0s - loss: 1.4431 - accuracy: 0.4746\n",
            "Epoch 9: val_loss improved from 1.42389 to 1.37404, saving model to vgg13_4.h5\n",
            "31/31 [==============================] - 16s 464ms/step - loss: 1.4431 - accuracy: 0.4746 - val_loss: 1.3740 - val_accuracy: 0.5044\n",
            "Epoch 10/1024\n",
            "31/31 [==============================] - ETA: 0s - loss: 1.3920 - accuracy: 0.4976\n",
            "Epoch 10: val_loss did not improve from 1.37404\n",
            "31/31 [==============================] - 14s 411ms/step - loss: 1.3920 - accuracy: 0.4976 - val_loss: 1.4186 - val_accuracy: 0.4956\n",
            "Epoch 11/1024\n",
            "31/31 [==============================] - ETA: 0s - loss: 1.3771 - accuracy: 0.4985\n",
            "Epoch 11: val_loss did not improve from 1.37404\n",
            "31/31 [==============================] - 13s 406ms/step - loss: 1.3771 - accuracy: 0.4985 - val_loss: 1.4197 - val_accuracy: 0.4866\n",
            "Epoch 12/1024\n",
            "31/31 [==============================] - ETA: 0s - loss: 1.3323 - accuracy: 0.5145\n",
            "Epoch 12: val_loss improved from 1.37404 to 1.33004, saving model to vgg13_4.h5\n",
            "31/31 [==============================] - 15s 444ms/step - loss: 1.3323 - accuracy: 0.5145 - val_loss: 1.3300 - val_accuracy: 0.5281\n",
            "Epoch 13/1024\n",
            "31/31 [==============================] - ETA: 0s - loss: 1.2926 - accuracy: 0.5272\n",
            "Epoch 13: val_loss improved from 1.33004 to 1.31954, saving model to vgg13_4.h5\n",
            "31/31 [==============================] - 15s 440ms/step - loss: 1.2926 - accuracy: 0.5272 - val_loss: 1.3195 - val_accuracy: 0.5361\n",
            "Epoch 14/1024\n",
            "31/31 [==============================] - ETA: 0s - loss: 1.2895 - accuracy: 0.5304\n",
            "Epoch 14: val_loss improved from 1.31954 to 1.19456, saving model to vgg13_4.h5\n",
            "31/31 [==============================] - 15s 454ms/step - loss: 1.2895 - accuracy: 0.5304 - val_loss: 1.1946 - val_accuracy: 0.5652\n",
            "Epoch 15/1024\n",
            "31/31 [==============================] - ETA: 0s - loss: 1.2547 - accuracy: 0.5422\n",
            "Epoch 15: val_loss did not improve from 1.19456\n",
            "31/31 [==============================] - 13s 408ms/step - loss: 1.2547 - accuracy: 0.5422 - val_loss: 1.2177 - val_accuracy: 0.5556\n",
            "Epoch 16/1024\n",
            "31/31 [==============================] - ETA: 0s - loss: 1.2311 - accuracy: 0.5518\n",
            "Epoch 16: val_loss did not improve from 1.19456\n",
            "31/31 [==============================] - 14s 412ms/step - loss: 1.2311 - accuracy: 0.5518 - val_loss: 1.1999 - val_accuracy: 0.5744\n",
            "Epoch 17/1024\n",
            "31/31 [==============================] - ETA: 0s - loss: 1.2170 - accuracy: 0.5544\n",
            "Epoch 17: val_loss improved from 1.19456 to 1.17821, saving model to vgg13_4.h5\n",
            "31/31 [==============================] - 15s 456ms/step - loss: 1.2170 - accuracy: 0.5544 - val_loss: 1.1782 - val_accuracy: 0.5806\n",
            "Epoch 18/1024\n",
            "31/31 [==============================] - ETA: 0s - loss: 1.2182 - accuracy: 0.5566\n",
            "Epoch 18: val_loss improved from 1.17821 to 1.11713, saving model to vgg13_4.h5\n",
            "31/31 [==============================] - 16s 469ms/step - loss: 1.2182 - accuracy: 0.5566 - val_loss: 1.1171 - val_accuracy: 0.5997\n",
            "Epoch 19/1024\n",
            "31/31 [==============================] - ETA: 0s - loss: 1.1889 - accuracy: 0.5689\n",
            "Epoch 19: val_loss did not improve from 1.11713\n",
            "31/31 [==============================] - 14s 409ms/step - loss: 1.1889 - accuracy: 0.5689 - val_loss: 1.1375 - val_accuracy: 0.5889\n",
            "Epoch 20/1024\n",
            "31/31 [==============================] - ETA: 0s - loss: 1.1511 - accuracy: 0.5824\n",
            "Epoch 20: val_loss improved from 1.11713 to 1.08339, saving model to vgg13_4.h5\n",
            "31/31 [==============================] - 15s 446ms/step - loss: 1.1511 - accuracy: 0.5824 - val_loss: 1.0834 - val_accuracy: 0.6087\n",
            "Epoch 21/1024\n",
            "31/31 [==============================] - ETA: 0s - loss: 1.1335 - accuracy: 0.5830\n",
            "Epoch 21: val_loss did not improve from 1.08339\n",
            "31/31 [==============================] - 14s 431ms/step - loss: 1.1335 - accuracy: 0.5830 - val_loss: 1.1306 - val_accuracy: 0.5914\n",
            "Epoch 22/1024\n",
            "31/31 [==============================] - ETA: 0s - loss: 1.1206 - accuracy: 0.5906\n",
            "Epoch 22: val_loss did not improve from 1.08339\n",
            "31/31 [==============================] - 14s 414ms/step - loss: 1.1206 - accuracy: 0.5906 - val_loss: 1.1995 - val_accuracy: 0.5868\n",
            "Epoch 23/1024\n",
            "31/31 [==============================] - ETA: 0s - loss: 1.0967 - accuracy: 0.6003\n",
            "Epoch 23: val_loss did not improve from 1.08339\n",
            "31/31 [==============================] - 13s 410ms/step - loss: 1.0967 - accuracy: 0.6003 - val_loss: 1.0873 - val_accuracy: 0.6141\n",
            "Epoch 24/1024\n",
            "31/31 [==============================] - ETA: 0s - loss: 1.1005 - accuracy: 0.5987\n",
            "Epoch 24: val_loss did not improve from 1.08339\n",
            "31/31 [==============================] - 14s 415ms/step - loss: 1.1005 - accuracy: 0.5987 - val_loss: 1.0982 - val_accuracy: 0.6079\n",
            "Epoch 25/1024\n",
            "31/31 [==============================] - ETA: 0s - loss: 1.0710 - accuracy: 0.6117\n",
            "Epoch 25: val_loss did not improve from 1.08339\n",
            "31/31 [==============================] - 14s 412ms/step - loss: 1.0710 - accuracy: 0.6117 - val_loss: 1.1498 - val_accuracy: 0.5907\n",
            "Epoch 26/1024\n",
            "31/31 [==============================] - ETA: 0s - loss: 1.0589 - accuracy: 0.6157\n",
            "Epoch 26: val_loss improved from 1.08339 to 1.02216, saving model to vgg13_4.h5\n",
            "31/31 [==============================] - 15s 456ms/step - loss: 1.0589 - accuracy: 0.6157 - val_loss: 1.0222 - val_accuracy: 0.6388\n",
            "Epoch 27/1024\n",
            "31/31 [==============================] - ETA: 0s - loss: 1.0355 - accuracy: 0.6228\n",
            "Epoch 27: val_loss did not improve from 1.02216\n",
            "31/31 [==============================] - 16s 464ms/step - loss: 1.0355 - accuracy: 0.6228 - val_loss: 1.0932 - val_accuracy: 0.6278\n",
            "Epoch 28/1024\n",
            "31/31 [==============================] - ETA: 0s - loss: 1.0598 - accuracy: 0.6116\n",
            "Epoch 28: val_loss did not improve from 1.02216\n",
            "31/31 [==============================] - 14s 418ms/step - loss: 1.0598 - accuracy: 0.6116 - val_loss: 1.0740 - val_accuracy: 0.6146\n",
            "Epoch 29/1024\n",
            "31/31 [==============================] - ETA: 0s - loss: 1.0166 - accuracy: 0.6285\n",
            "Epoch 29: val_loss did not improve from 1.02216\n",
            "31/31 [==============================] - 14s 420ms/step - loss: 1.0166 - accuracy: 0.6285 - val_loss: 1.1011 - val_accuracy: 0.6167\n",
            "Epoch 30/1024\n",
            "31/31 [==============================] - ETA: 0s - loss: 1.0138 - accuracy: 0.6316\n",
            "Epoch 30: val_loss did not improve from 1.02216\n",
            "31/31 [==============================] - 14s 418ms/step - loss: 1.0138 - accuracy: 0.6316 - val_loss: 1.0812 - val_accuracy: 0.6159\n",
            "Epoch 31/1024\n",
            "31/31 [==============================] - ETA: 0s - loss: 1.0055 - accuracy: 0.6357\n",
            "Epoch 31: val_loss did not improve from 1.02216\n",
            "31/31 [==============================] - 14s 429ms/step - loss: 1.0055 - accuracy: 0.6357 - val_loss: 1.0539 - val_accuracy: 0.6298\n",
            "Epoch 32/1024\n",
            "31/31 [==============================] - ETA: 0s - loss: 0.9770 - accuracy: 0.6448\n",
            "Epoch 32: val_loss did not improve from 1.02216\n",
            "31/31 [==============================] - 14s 414ms/step - loss: 0.9770 - accuracy: 0.6448 - val_loss: 1.0321 - val_accuracy: 0.6306\n",
            "Epoch 33/1024\n",
            "31/31 [==============================] - ETA: 0s - loss: 0.9572 - accuracy: 0.6526\n",
            "Epoch 33: val_loss improved from 1.02216 to 1.01173, saving model to vgg13_4.h5\n",
            "31/31 [==============================] - 15s 450ms/step - loss: 0.9572 - accuracy: 0.6526 - val_loss: 1.0117 - val_accuracy: 0.6463\n",
            "Epoch 34/1024\n",
            "31/31 [==============================] - ETA: 0s - loss: 0.9918 - accuracy: 0.6394\n",
            "Epoch 34: val_loss did not improve from 1.01173\n",
            "31/31 [==============================] - 14s 417ms/step - loss: 0.9918 - accuracy: 0.6394 - val_loss: 1.0461 - val_accuracy: 0.6296\n",
            "Epoch 35/1024\n",
            "31/31 [==============================] - ETA: 0s - loss: 0.9764 - accuracy: 0.6472\n",
            "Epoch 35: val_loss improved from 1.01173 to 0.98028, saving model to vgg13_4.h5\n",
            "31/31 [==============================] - 15s 449ms/step - loss: 0.9764 - accuracy: 0.6472 - val_loss: 0.9803 - val_accuracy: 0.6553\n",
            "Epoch 36/1024\n",
            "31/31 [==============================] - ETA: 0s - loss: 0.9455 - accuracy: 0.6546\n",
            "Epoch 36: val_loss improved from 0.98028 to 0.95537, saving model to vgg13_4.h5\n",
            "31/31 [==============================] - 15s 450ms/step - loss: 0.9455 - accuracy: 0.6546 - val_loss: 0.9554 - val_accuracy: 0.6530\n",
            "Epoch 37/1024\n",
            "31/31 [==============================] - ETA: 0s - loss: 0.9314 - accuracy: 0.6616\n",
            "Epoch 37: val_loss did not improve from 0.95537\n",
            "31/31 [==============================] - 14s 422ms/step - loss: 0.9314 - accuracy: 0.6616 - val_loss: 1.0157 - val_accuracy: 0.6363\n",
            "Epoch 38/1024\n",
            "31/31 [==============================] - ETA: 0s - loss: 0.9092 - accuracy: 0.6658\n",
            "Epoch 38: val_loss did not improve from 0.95537\n",
            "31/31 [==============================] - 14s 414ms/step - loss: 0.9092 - accuracy: 0.6658 - val_loss: 1.0238 - val_accuracy: 0.6414\n",
            "Epoch 39/1024\n",
            "31/31 [==============================] - ETA: 0s - loss: 0.9092 - accuracy: 0.6671\n",
            "Epoch 39: val_loss improved from 0.95537 to 0.93970, saving model to vgg13_4.h5\n",
            "31/31 [==============================] - 14s 442ms/step - loss: 0.9092 - accuracy: 0.6671 - val_loss: 0.9397 - val_accuracy: 0.6739\n",
            "Epoch 40/1024\n",
            "31/31 [==============================] - ETA: 0s - loss: 0.8922 - accuracy: 0.6761\n",
            "Epoch 40: val_loss improved from 0.93970 to 0.93034, saving model to vgg13_4.h5\n",
            "31/31 [==============================] - 15s 448ms/step - loss: 0.8922 - accuracy: 0.6761 - val_loss: 0.9303 - val_accuracy: 0.6643\n",
            "Epoch 41/1024\n",
            "31/31 [==============================] - ETA: 0s - loss: 0.8943 - accuracy: 0.6735\n",
            "Epoch 41: val_loss improved from 0.93034 to 0.92966, saving model to vgg13_4.h5\n",
            "31/31 [==============================] - 16s 460ms/step - loss: 0.8943 - accuracy: 0.6735 - val_loss: 0.9297 - val_accuracy: 0.6765\n",
            "Epoch 42/1024\n",
            "31/31 [==============================] - ETA: 0s - loss: 0.8590 - accuracy: 0.6908\n",
            "Epoch 42: val_loss did not improve from 0.92966\n",
            "31/31 [==============================] - 14s 413ms/step - loss: 0.8590 - accuracy: 0.6908 - val_loss: 1.0440 - val_accuracy: 0.6409\n",
            "Epoch 43/1024\n",
            "31/31 [==============================] - ETA: 0s - loss: 0.8914 - accuracy: 0.6750\n",
            "Epoch 43: val_loss did not improve from 0.92966\n",
            "31/31 [==============================] - 15s 464ms/step - loss: 0.8914 - accuracy: 0.6750 - val_loss: 0.9339 - val_accuracy: 0.6649\n",
            "Epoch 44/1024\n",
            "31/31 [==============================] - ETA: 0s - loss: 0.8635 - accuracy: 0.6849\n",
            "Epoch 44: val_loss improved from 0.92966 to 0.90137, saving model to vgg13_4.h5\n",
            "31/31 [==============================] - 15s 457ms/step - loss: 0.8635 - accuracy: 0.6849 - val_loss: 0.9014 - val_accuracy: 0.6687\n",
            "Epoch 45/1024\n",
            "31/31 [==============================] - ETA: 0s - loss: 0.8464 - accuracy: 0.6898\n",
            "Epoch 45: val_loss did not improve from 0.90137\n",
            "31/31 [==============================] - 14s 424ms/step - loss: 0.8464 - accuracy: 0.6898 - val_loss: 0.9172 - val_accuracy: 0.6844\n",
            "Epoch 46/1024\n",
            "31/31 [==============================] - ETA: 0s - loss: 0.8374 - accuracy: 0.6931\n",
            "Epoch 46: val_loss did not improve from 0.90137\n",
            "31/31 [==============================] - 14s 413ms/step - loss: 0.8374 - accuracy: 0.6931 - val_loss: 0.9062 - val_accuracy: 0.6718\n",
            "Epoch 47/1024\n",
            "31/31 [==============================] - ETA: 0s - loss: 0.8292 - accuracy: 0.6958\n",
            "Epoch 47: val_loss improved from 0.90137 to 0.87369, saving model to vgg13_4.h5\n",
            "31/31 [==============================] - 15s 456ms/step - loss: 0.8292 - accuracy: 0.6958 - val_loss: 0.8737 - val_accuracy: 0.6821\n",
            "Epoch 48/1024\n",
            "31/31 [==============================] - ETA: 0s - loss: 0.8283 - accuracy: 0.6985\n",
            "Epoch 48: val_loss did not improve from 0.87369\n",
            "31/31 [==============================] - 14s 415ms/step - loss: 0.8283 - accuracy: 0.6985 - val_loss: 0.9188 - val_accuracy: 0.6685\n",
            "Epoch 49/1024\n",
            "31/31 [==============================] - ETA: 0s - loss: 0.8114 - accuracy: 0.7016\n",
            "Epoch 49: val_loss improved from 0.87369 to 0.87159, saving model to vgg13_4.h5\n",
            "31/31 [==============================] - 17s 497ms/step - loss: 0.8114 - accuracy: 0.7016 - val_loss: 0.8716 - val_accuracy: 0.6811\n",
            "Epoch 50/1024\n",
            "31/31 [==============================] - ETA: 0s - loss: 0.8105 - accuracy: 0.7045\n",
            "Epoch 50: val_loss did not improve from 0.87159\n",
            "31/31 [==============================] - 14s 418ms/step - loss: 0.8105 - accuracy: 0.7045 - val_loss: 0.8881 - val_accuracy: 0.6868\n",
            "Epoch 51/1024\n",
            "31/31 [==============================] - ETA: 0s - loss: 0.7972 - accuracy: 0.7101\n",
            "Epoch 51: val_loss did not improve from 0.87159\n",
            "31/31 [==============================] - 15s 430ms/step - loss: 0.7972 - accuracy: 0.7101 - val_loss: 0.9049 - val_accuracy: 0.6886\n",
            "Epoch 52/1024\n",
            "31/31 [==============================] - ETA: 0s - loss: 0.7916 - accuracy: 0.7077\n",
            "Epoch 52: val_loss did not improve from 0.87159\n",
            "31/31 [==============================] - 14s 416ms/step - loss: 0.7916 - accuracy: 0.7077 - val_loss: 0.9565 - val_accuracy: 0.6749\n",
            "Epoch 53/1024\n",
            "31/31 [==============================] - ETA: 0s - loss: 0.7816 - accuracy: 0.7162\n",
            "Epoch 53: val_loss improved from 0.87159 to 0.84095, saving model to vgg13_4.h5\n",
            "31/31 [==============================] - 15s 448ms/step - loss: 0.7816 - accuracy: 0.7162 - val_loss: 0.8410 - val_accuracy: 0.7007\n",
            "Epoch 54/1024\n",
            "31/31 [==============================] - ETA: 0s - loss: 0.7811 - accuracy: 0.7107\n",
            "Epoch 54: val_loss improved from 0.84095 to 0.77243, saving model to vgg13_4.h5\n",
            "31/31 [==============================] - 15s 448ms/step - loss: 0.7811 - accuracy: 0.7107 - val_loss: 0.7724 - val_accuracy: 0.7190\n",
            "Epoch 55/1024\n",
            "31/31 [==============================] - ETA: 0s - loss: 0.7621 - accuracy: 0.7203\n",
            "Epoch 55: val_loss did not improve from 0.77243\n",
            "31/31 [==============================] - 14s 413ms/step - loss: 0.7621 - accuracy: 0.7203 - val_loss: 0.8060 - val_accuracy: 0.7102\n",
            "Epoch 56/1024\n",
            "31/31 [==============================] - ETA: 0s - loss: 0.7472 - accuracy: 0.7292\n",
            "Epoch 56: val_loss did not improve from 0.77243\n",
            "31/31 [==============================] - 14s 413ms/step - loss: 0.7472 - accuracy: 0.7292 - val_loss: 0.7994 - val_accuracy: 0.7120\n",
            "Epoch 57/1024\n",
            "31/31 [==============================] - ETA: 0s - loss: 0.7380 - accuracy: 0.7267\n",
            "Epoch 57: val_loss did not improve from 0.77243\n",
            "31/31 [==============================] - 14s 415ms/step - loss: 0.7380 - accuracy: 0.7267 - val_loss: 0.8257 - val_accuracy: 0.7125\n",
            "Epoch 58/1024\n",
            "31/31 [==============================] - ETA: 0s - loss: 0.7545 - accuracy: 0.7264\n",
            "Epoch 58: val_loss did not improve from 0.77243\n",
            "31/31 [==============================] - 15s 438ms/step - loss: 0.7545 - accuracy: 0.7264 - val_loss: 0.8090 - val_accuracy: 0.7017\n",
            "Epoch 59/1024\n",
            "31/31 [==============================] - ETA: 0s - loss: 0.7665 - accuracy: 0.7214\n",
            "Epoch 59: val_loss did not improve from 0.77243\n",
            "31/31 [==============================] - 14s 415ms/step - loss: 0.7665 - accuracy: 0.7214 - val_loss: 0.7976 - val_accuracy: 0.7177\n",
            "Epoch 60/1024\n",
            "31/31 [==============================] - ETA: 0s - loss: 0.7499 - accuracy: 0.7273\n",
            "Epoch 60: val_loss did not improve from 0.77243\n",
            "31/31 [==============================] - 14s 417ms/step - loss: 0.7499 - accuracy: 0.7273 - val_loss: 0.8118 - val_accuracy: 0.7177\n",
            "Epoch 61/1024\n",
            "31/31 [==============================] - ETA: 0s - loss: 0.7096 - accuracy: 0.7410\n",
            "Epoch 61: val_loss did not improve from 0.77243\n",
            "31/31 [==============================] - 15s 461ms/step - loss: 0.7096 - accuracy: 0.7410 - val_loss: 0.8563 - val_accuracy: 0.7009\n",
            "Epoch 62/1024\n",
            "31/31 [==============================] - ETA: 0s - loss: 0.6899 - accuracy: 0.7431\n",
            "Epoch 62: val_loss did not improve from 0.77243\n",
            "31/31 [==============================] - 14s 420ms/step - loss: 0.6899 - accuracy: 0.7431 - val_loss: 0.8559 - val_accuracy: 0.7125\n",
            "Epoch 63/1024\n",
            "31/31 [==============================] - ETA: 0s - loss: 0.6906 - accuracy: 0.7472\n",
            "Epoch 63: val_loss did not improve from 0.77243\n",
            "31/31 [==============================] - 14s 418ms/step - loss: 0.6906 - accuracy: 0.7472 - val_loss: 0.8395 - val_accuracy: 0.7105\n",
            "Epoch 64/1024\n",
            "31/31 [==============================] - ETA: 0s - loss: 0.7096 - accuracy: 0.7395\n",
            "Epoch 64: val_loss did not improve from 0.77243\n",
            "31/31 [==============================] - 14s 421ms/step - loss: 0.7096 - accuracy: 0.7395 - val_loss: 0.8710 - val_accuracy: 0.6942\n",
            "Epoch 65/1024\n",
            "31/31 [==============================] - ETA: 0s - loss: 0.6966 - accuracy: 0.7466\n",
            "Epoch 65: val_loss did not improve from 0.77243\n",
            "31/31 [==============================] - 14s 414ms/step - loss: 0.6966 - accuracy: 0.7466 - val_loss: 0.8306 - val_accuracy: 0.7120\n",
            "Epoch 66/1024\n",
            "31/31 [==============================] - ETA: 0s - loss: 0.6882 - accuracy: 0.7473\n",
            "Epoch 66: val_loss did not improve from 0.77243\n",
            "31/31 [==============================] - 15s 464ms/step - loss: 0.6882 - accuracy: 0.7473 - val_loss: 0.8511 - val_accuracy: 0.7107\n",
            "Epoch 67/1024\n",
            "31/31 [==============================] - ETA: 0s - loss: 0.7008 - accuracy: 0.7417\n",
            "Epoch 67: val_loss improved from 0.77243 to 0.76988, saving model to vgg13_4.h5\n",
            "31/31 [==============================] - 16s 470ms/step - loss: 0.7008 - accuracy: 0.7417 - val_loss: 0.7699 - val_accuracy: 0.7295\n",
            "Epoch 68/1024\n",
            "31/31 [==============================] - ETA: 0s - loss: 0.6753 - accuracy: 0.7513\n",
            "Epoch 68: val_loss improved from 0.76988 to 0.75395, saving model to vgg13_4.h5\n",
            "31/31 [==============================] - 15s 448ms/step - loss: 0.6753 - accuracy: 0.7513 - val_loss: 0.7540 - val_accuracy: 0.7354\n",
            "Epoch 69/1024\n",
            "31/31 [==============================] - ETA: 0s - loss: 0.6525 - accuracy: 0.7620\n",
            "Epoch 69: val_loss did not improve from 0.75395\n",
            "31/31 [==============================] - 14s 413ms/step - loss: 0.6525 - accuracy: 0.7620 - val_loss: 0.8588 - val_accuracy: 0.7097\n",
            "Epoch 70/1024\n",
            "31/31 [==============================] - ETA: 0s - loss: 0.6476 - accuracy: 0.7641\n",
            "Epoch 70: val_loss did not improve from 0.75395\n",
            "31/31 [==============================] - 14s 419ms/step - loss: 0.6476 - accuracy: 0.7641 - val_loss: 0.7599 - val_accuracy: 0.7362\n",
            "Epoch 71/1024\n",
            "31/31 [==============================] - ETA: 0s - loss: 0.6697 - accuracy: 0.7574\n",
            "Epoch 71: val_loss did not improve from 0.75395\n",
            "31/31 [==============================] - 14s 417ms/step - loss: 0.6697 - accuracy: 0.7574 - val_loss: 0.8947 - val_accuracy: 0.7058\n",
            "Epoch 72/1024\n",
            "31/31 [==============================] - ETA: 0s - loss: 0.6654 - accuracy: 0.7531\n",
            "Epoch 72: val_loss improved from 0.75395 to 0.72605, saving model to vgg13_4.h5\n",
            "31/31 [==============================] - 15s 452ms/step - loss: 0.6654 - accuracy: 0.7531 - val_loss: 0.7260 - val_accuracy: 0.7450\n",
            "Epoch 73/1024\n",
            "31/31 [==============================] - ETA: 0s - loss: 0.6407 - accuracy: 0.7654\n",
            "Epoch 73: val_loss did not improve from 0.72605\n",
            "31/31 [==============================] - 16s 455ms/step - loss: 0.6407 - accuracy: 0.7654 - val_loss: 0.8781 - val_accuracy: 0.7032\n",
            "Epoch 74/1024\n",
            "31/31 [==============================] - ETA: 0s - loss: 0.6436 - accuracy: 0.7605\n",
            "Epoch 74: val_loss did not improve from 0.72605\n",
            "31/31 [==============================] - 14s 415ms/step - loss: 0.6436 - accuracy: 0.7605 - val_loss: 0.7738 - val_accuracy: 0.7318\n",
            "Epoch 75/1024\n",
            "31/31 [==============================] - ETA: 0s - loss: 0.6497 - accuracy: 0.7613\n",
            "Epoch 75: val_loss did not improve from 0.72605\n",
            "31/31 [==============================] - 14s 412ms/step - loss: 0.6497 - accuracy: 0.7613 - val_loss: 0.7288 - val_accuracy: 0.7442\n",
            "Epoch 76/1024\n",
            "31/31 [==============================] - ETA: 0s - loss: 0.6211 - accuracy: 0.7766\n",
            "Epoch 76: val_loss did not improve from 0.72605\n",
            "31/31 [==============================] - 14s 411ms/step - loss: 0.6211 - accuracy: 0.7766 - val_loss: 0.7539 - val_accuracy: 0.7465\n",
            "Epoch 77/1024\n",
            "31/31 [==============================] - ETA: 0s - loss: 0.6095 - accuracy: 0.7764\n",
            "Epoch 77: val_loss improved from 0.72605 to 0.71599, saving model to vgg13_4.h5\n",
            "31/31 [==============================] - 15s 454ms/step - loss: 0.6095 - accuracy: 0.7764 - val_loss: 0.7160 - val_accuracy: 0.7452\n",
            "Epoch 78/1024\n",
            "31/31 [==============================] - ETA: 0s - loss: 0.5994 - accuracy: 0.7813\n",
            "Epoch 78: val_loss improved from 0.71599 to 0.69695, saving model to vgg13_4.h5\n",
            "31/31 [==============================] - 15s 447ms/step - loss: 0.5994 - accuracy: 0.7813 - val_loss: 0.6969 - val_accuracy: 0.7568\n",
            "Epoch 79/1024\n",
            "31/31 [==============================] - ETA: 0s - loss: 0.6066 - accuracy: 0.7790\n",
            "Epoch 79: val_loss did not improve from 0.69695\n",
            "31/31 [==============================] - 16s 461ms/step - loss: 0.6066 - accuracy: 0.7790 - val_loss: 0.8052 - val_accuracy: 0.7326\n",
            "Epoch 80/1024\n",
            "31/31 [==============================] - ETA: 0s - loss: 0.6044 - accuracy: 0.7826\n",
            "Epoch 80: val_loss did not improve from 0.69695\n",
            "31/31 [==============================] - 14s 415ms/step - loss: 0.6044 - accuracy: 0.7826 - val_loss: 0.7659 - val_accuracy: 0.7360\n",
            "Epoch 81/1024\n",
            "31/31 [==============================] - ETA: 0s - loss: 0.5867 - accuracy: 0.7844\n",
            "Epoch 81: val_loss did not improve from 0.69695\n",
            "31/31 [==============================] - 14s 425ms/step - loss: 0.5867 - accuracy: 0.7844 - val_loss: 0.7299 - val_accuracy: 0.7445\n",
            "Epoch 82/1024\n",
            "31/31 [==============================] - ETA: 0s - loss: 0.5951 - accuracy: 0.7811\n",
            "Epoch 82: val_loss improved from 0.69695 to 0.68954, saving model to vgg13_4.h5\n",
            "31/31 [==============================] - 15s 456ms/step - loss: 0.5951 - accuracy: 0.7811 - val_loss: 0.6895 - val_accuracy: 0.7599\n",
            "Epoch 83/1024\n",
            "31/31 [==============================] - ETA: 0s - loss: 0.5830 - accuracy: 0.7858\n",
            "Epoch 83: val_loss did not improve from 0.68954\n",
            "31/31 [==============================] - 14s 413ms/step - loss: 0.5830 - accuracy: 0.7858 - val_loss: 0.7017 - val_accuracy: 0.7504\n",
            "Epoch 84/1024\n",
            "31/31 [==============================] - ETA: 0s - loss: 0.5635 - accuracy: 0.7932\n",
            "Epoch 84: val_loss improved from 0.68954 to 0.64978, saving model to vgg13_4.h5\n",
            "31/31 [==============================] - 15s 446ms/step - loss: 0.5635 - accuracy: 0.7932 - val_loss: 0.6498 - val_accuracy: 0.7779\n",
            "Epoch 85/1024\n",
            "31/31 [==============================] - ETA: 0s - loss: 0.5865 - accuracy: 0.7853\n",
            "Epoch 85: val_loss did not improve from 0.64978\n",
            "31/31 [==============================] - 16s 458ms/step - loss: 0.5865 - accuracy: 0.7853 - val_loss: 0.7281 - val_accuracy: 0.7543\n",
            "Epoch 86/1024\n",
            "31/31 [==============================] - ETA: 0s - loss: 0.5760 - accuracy: 0.7914\n",
            "Epoch 86: val_loss did not improve from 0.64978\n",
            "31/31 [==============================] - 14s 418ms/step - loss: 0.5760 - accuracy: 0.7914 - val_loss: 0.7752 - val_accuracy: 0.7406\n",
            "Epoch 87/1024\n",
            "31/31 [==============================] - ETA: 0s - loss: 0.5557 - accuracy: 0.7952\n",
            "Epoch 87: val_loss did not improve from 0.64978\n",
            "31/31 [==============================] - 14s 419ms/step - loss: 0.5557 - accuracy: 0.7952 - val_loss: 0.6716 - val_accuracy: 0.7643\n",
            "Epoch 88/1024\n",
            "31/31 [==============================] - ETA: 0s - loss: 0.5704 - accuracy: 0.7891\n",
            "Epoch 88: val_loss did not improve from 0.64978\n",
            "31/31 [==============================] - 14s 414ms/step - loss: 0.5704 - accuracy: 0.7891 - val_loss: 0.6943 - val_accuracy: 0.7586\n",
            "Epoch 89/1024\n",
            "31/31 [==============================] - ETA: 0s - loss: 0.5469 - accuracy: 0.8014\n",
            "Epoch 89: val_loss did not improve from 0.64978\n",
            "31/31 [==============================] - 14s 413ms/step - loss: 0.5469 - accuracy: 0.8014 - val_loss: 0.6906 - val_accuracy: 0.7625\n",
            "Epoch 90/1024\n",
            "31/31 [==============================] - ETA: 0s - loss: 0.5519 - accuracy: 0.7977\n",
            "Epoch 90: val_loss did not improve from 0.64978\n",
            "31/31 [==============================] - 14s 420ms/step - loss: 0.5519 - accuracy: 0.7977 - val_loss: 0.7031 - val_accuracy: 0.7563\n",
            "Epoch 91/1024\n",
            "31/31 [==============================] - ETA: 0s - loss: 0.5410 - accuracy: 0.8037\n",
            "Epoch 91: val_loss improved from 0.64978 to 0.64667, saving model to vgg13_4.h5\n",
            "31/31 [==============================] - 14s 443ms/step - loss: 0.5410 - accuracy: 0.8037 - val_loss: 0.6467 - val_accuracy: 0.7741\n",
            "Epoch 92/1024\n",
            "31/31 [==============================] - ETA: 0s - loss: 0.5453 - accuracy: 0.7977\n",
            "Epoch 92: val_loss did not improve from 0.64667\n",
            "31/31 [==============================] - 14s 410ms/step - loss: 0.5453 - accuracy: 0.7977 - val_loss: 0.6672 - val_accuracy: 0.7633\n",
            "Epoch 93/1024\n",
            "31/31 [==============================] - ETA: 0s - loss: 0.5525 - accuracy: 0.8007\n",
            "Epoch 93: val_loss did not improve from 0.64667\n",
            "31/31 [==============================] - 14s 411ms/step - loss: 0.5525 - accuracy: 0.8007 - val_loss: 0.7182 - val_accuracy: 0.7581\n",
            "Epoch 94/1024\n",
            "31/31 [==============================] - ETA: 0s - loss: 0.5342 - accuracy: 0.8059\n",
            "Epoch 94: val_loss improved from 0.64667 to 0.63825, saving model to vgg13_4.h5\n",
            "31/31 [==============================] - 15s 453ms/step - loss: 0.5342 - accuracy: 0.8059 - val_loss: 0.6383 - val_accuracy: 0.7821\n",
            "Epoch 95/1024\n",
            "31/31 [==============================] - ETA: 0s - loss: 0.5309 - accuracy: 0.8079\n",
            "Epoch 95: val_loss did not improve from 0.63825\n",
            "31/31 [==============================] - 16s 458ms/step - loss: 0.5309 - accuracy: 0.8079 - val_loss: 0.6715 - val_accuracy: 0.7720\n",
            "Epoch 96/1024\n",
            "31/31 [==============================] - ETA: 0s - loss: 0.5144 - accuracy: 0.8133\n",
            "Epoch 96: val_loss did not improve from 0.63825\n",
            "31/31 [==============================] - 14s 420ms/step - loss: 0.5144 - accuracy: 0.8133 - val_loss: 0.6629 - val_accuracy: 0.7664\n",
            "Epoch 97/1024\n",
            "31/31 [==============================] - ETA: 0s - loss: 0.5342 - accuracy: 0.8039\n",
            "Epoch 97: val_loss did not improve from 0.63825\n",
            "31/31 [==============================] - 14s 432ms/step - loss: 0.5342 - accuracy: 0.8039 - val_loss: 0.7390 - val_accuracy: 0.7483\n",
            "Epoch 98/1024\n",
            "31/31 [==============================] - ETA: 0s - loss: 0.5048 - accuracy: 0.8149\n",
            "Epoch 98: val_loss did not improve from 0.63825\n",
            "31/31 [==============================] - 14s 414ms/step - loss: 0.5048 - accuracy: 0.8149 - val_loss: 0.6992 - val_accuracy: 0.7646\n",
            "Epoch 99/1024\n",
            "31/31 [==============================] - ETA: 0s - loss: 0.5009 - accuracy: 0.8145\n",
            "Epoch 99: val_loss did not improve from 0.63825\n",
            "31/31 [==============================] - 14s 412ms/step - loss: 0.5009 - accuracy: 0.8145 - val_loss: 0.6755 - val_accuracy: 0.7777\n",
            "Epoch 100/1024\n",
            "31/31 [==============================] - ETA: 0s - loss: 0.5142 - accuracy: 0.8121\n",
            "Epoch 100: val_loss did not improve from 0.63825\n",
            "31/31 [==============================] - 14s 418ms/step - loss: 0.5142 - accuracy: 0.8121 - val_loss: 0.7297 - val_accuracy: 0.7483\n",
            "Epoch 101/1024\n",
            "31/31 [==============================] - ETA: 0s - loss: 0.5108 - accuracy: 0.8135\n",
            "Epoch 101: val_loss did not improve from 0.63825\n",
            "31/31 [==============================] - 14s 414ms/step - loss: 0.5108 - accuracy: 0.8135 - val_loss: 0.7138 - val_accuracy: 0.7568\n",
            "Epoch 102/1024\n",
            "31/31 [==============================] - ETA: 0s - loss: 0.4935 - accuracy: 0.8212\n",
            "Epoch 102: val_loss improved from 0.63825 to 0.61662, saving model to vgg13_4.h5\n",
            "31/31 [==============================] - 15s 452ms/step - loss: 0.4935 - accuracy: 0.8212 - val_loss: 0.6166 - val_accuracy: 0.7857\n",
            "Epoch 103/1024\n",
            "31/31 [==============================] - ETA: 0s - loss: 0.4892 - accuracy: 0.8231\n",
            "Epoch 103: val_loss did not improve from 0.61662\n",
            "31/31 [==============================] - 14s 413ms/step - loss: 0.4892 - accuracy: 0.8231 - val_loss: 0.6265 - val_accuracy: 0.7831\n",
            "Epoch 104/1024\n",
            "31/31 [==============================] - ETA: 0s - loss: 0.4965 - accuracy: 0.8207\n",
            "Epoch 104: val_loss did not improve from 0.61662\n",
            "31/31 [==============================] - 14s 420ms/step - loss: 0.4965 - accuracy: 0.8207 - val_loss: 0.6226 - val_accuracy: 0.7769\n",
            "Epoch 105/1024\n",
            "31/31 [==============================] - ETA: 0s - loss: 0.4889 - accuracy: 0.8181\n",
            "Epoch 105: val_loss did not improve from 0.61662\n",
            "31/31 [==============================] - 14s 414ms/step - loss: 0.4889 - accuracy: 0.8181 - val_loss: 0.6604 - val_accuracy: 0.7725\n",
            "Epoch 106/1024\n",
            "31/31 [==============================] - ETA: 0s - loss: 0.4966 - accuracy: 0.8200\n",
            "Epoch 106: val_loss improved from 0.61662 to 0.60740, saving model to vgg13_4.h5\n",
            "31/31 [==============================] - 16s 477ms/step - loss: 0.4966 - accuracy: 0.8200 - val_loss: 0.6074 - val_accuracy: 0.7883\n",
            "Epoch 107/1024\n",
            "31/31 [==============================] - ETA: 0s - loss: 0.4747 - accuracy: 0.8219\n",
            "Epoch 107: val_loss did not improve from 0.60740\n",
            "31/31 [==============================] - 14s 420ms/step - loss: 0.4747 - accuracy: 0.8219 - val_loss: 0.6587 - val_accuracy: 0.7800\n",
            "Epoch 108/1024\n",
            "31/31 [==============================] - ETA: 0s - loss: 0.4807 - accuracy: 0.8248\n",
            "Epoch 108: val_loss did not improve from 0.60740\n",
            "31/31 [==============================] - 14s 420ms/step - loss: 0.4807 - accuracy: 0.8248 - val_loss: 0.6578 - val_accuracy: 0.7761\n",
            "Epoch 109/1024\n",
            "31/31 [==============================] - ETA: 0s - loss: 0.4751 - accuracy: 0.8262\n",
            "Epoch 109: val_loss did not improve from 0.60740\n",
            "31/31 [==============================] - 14s 411ms/step - loss: 0.4751 - accuracy: 0.8262 - val_loss: 0.6377 - val_accuracy: 0.7785\n",
            "Epoch 110/1024\n",
            "31/31 [==============================] - ETA: 0s - loss: 0.4859 - accuracy: 0.8206\n",
            "Epoch 110: val_loss did not improve from 0.60740\n",
            "31/31 [==============================] - 14s 421ms/step - loss: 0.4859 - accuracy: 0.8206 - val_loss: 0.6559 - val_accuracy: 0.7756\n",
            "Epoch 111/1024\n",
            "31/31 [==============================] - ETA: 0s - loss: 0.4709 - accuracy: 0.8280\n",
            "Epoch 111: val_loss improved from 0.60740 to 0.57619, saving model to vgg13_4.h5\n",
            "31/31 [==============================] - 15s 455ms/step - loss: 0.4709 - accuracy: 0.8280 - val_loss: 0.5762 - val_accuracy: 0.8014\n",
            "Epoch 112/1024\n",
            "31/31 [==============================] - ETA: 0s - loss: 0.4688 - accuracy: 0.8282\n",
            "Epoch 112: val_loss did not improve from 0.57619\n",
            "31/31 [==============================] - 14s 416ms/step - loss: 0.4688 - accuracy: 0.8282 - val_loss: 0.6273 - val_accuracy: 0.7795\n",
            "Epoch 113/1024\n",
            "31/31 [==============================] - ETA: 0s - loss: 0.4632 - accuracy: 0.8287\n",
            "Epoch 113: val_loss did not improve from 0.57619\n",
            "31/31 [==============================] - 14s 413ms/step - loss: 0.4632 - accuracy: 0.8287 - val_loss: 0.7116 - val_accuracy: 0.7599\n",
            "Epoch 114/1024\n",
            "31/31 [==============================] - ETA: 0s - loss: 0.4693 - accuracy: 0.8299\n",
            "Epoch 114: val_loss did not improve from 0.57619\n",
            "31/31 [==============================] - 14s 425ms/step - loss: 0.4693 - accuracy: 0.8299 - val_loss: 0.6545 - val_accuracy: 0.7718\n",
            "Epoch 115/1024\n",
            "31/31 [==============================] - ETA: 0s - loss: 0.4741 - accuracy: 0.8282\n",
            "Epoch 115: val_loss did not improve from 0.57619\n",
            "31/31 [==============================] - 16s 453ms/step - loss: 0.4741 - accuracy: 0.8282 - val_loss: 0.6256 - val_accuracy: 0.7859\n",
            "Epoch 116/1024\n",
            "31/31 [==============================] - ETA: 0s - loss: 0.4395 - accuracy: 0.8388\n",
            "Epoch 116: val_loss did not improve from 0.57619\n",
            "31/31 [==============================] - 14s 425ms/step - loss: 0.4395 - accuracy: 0.8388 - val_loss: 0.6718 - val_accuracy: 0.7754\n",
            "Epoch 117/1024\n",
            "31/31 [==============================] - ETA: 0s - loss: 0.4549 - accuracy: 0.8339\n",
            "Epoch 117: val_loss did not improve from 0.57619\n",
            "31/31 [==============================] - 14s 410ms/step - loss: 0.4549 - accuracy: 0.8339 - val_loss: 0.7032 - val_accuracy: 0.7710\n",
            "Epoch 118/1024\n",
            "31/31 [==============================] - ETA: 0s - loss: 0.4590 - accuracy: 0.8339\n",
            "Epoch 118: val_loss did not improve from 0.57619\n",
            "31/31 [==============================] - 14s 418ms/step - loss: 0.4590 - accuracy: 0.8339 - val_loss: 0.6764 - val_accuracy: 0.7628\n",
            "Epoch 119/1024\n",
            "31/31 [==============================] - ETA: 0s - loss: 0.4513 - accuracy: 0.8365\n",
            "Epoch 119: val_loss did not improve from 0.57619\n",
            "31/31 [==============================] - 14s 411ms/step - loss: 0.4513 - accuracy: 0.8365 - val_loss: 0.6310 - val_accuracy: 0.7885\n",
            "Epoch 120/1024\n",
            "31/31 [==============================] - ETA: 0s - loss: 0.4357 - accuracy: 0.8420\n",
            "Epoch 120: val_loss did not improve from 0.57619\n",
            "31/31 [==============================] - 14s 417ms/step - loss: 0.4357 - accuracy: 0.8420 - val_loss: 0.6494 - val_accuracy: 0.7854\n",
            "Epoch 121/1024\n",
            "31/31 [==============================] - ETA: 0s - loss: 0.4379 - accuracy: 0.8407\n",
            "Epoch 121: val_loss did not improve from 0.57619\n",
            "31/31 [==============================] - 14s 408ms/step - loss: 0.4379 - accuracy: 0.8407 - val_loss: 0.6148 - val_accuracy: 0.7960\n",
            "Epoch 122/1024\n",
            "31/31 [==============================] - ETA: 0s - loss: 0.4498 - accuracy: 0.8379\n",
            "Epoch 122: val_loss did not improve from 0.57619\n",
            "31/31 [==============================] - 14s 417ms/step - loss: 0.4498 - accuracy: 0.8379 - val_loss: 0.6467 - val_accuracy: 0.7779\n",
            "Epoch 123/1024\n",
            "31/31 [==============================] - ETA: 0s - loss: 0.4214 - accuracy: 0.8467\n",
            "Epoch 123: val_loss improved from 0.57619 to 0.54367, saving model to vgg13_4.h5\n",
            "31/31 [==============================] - 15s 446ms/step - loss: 0.4214 - accuracy: 0.8467 - val_loss: 0.5437 - val_accuracy: 0.8156\n",
            "Epoch 124/1024\n",
            "31/31 [==============================] - ETA: 0s - loss: 0.4259 - accuracy: 0.8411\n",
            "Epoch 124: val_loss did not improve from 0.54367\n",
            "31/31 [==============================] - 14s 412ms/step - loss: 0.4259 - accuracy: 0.8411 - val_loss: 0.5733 - val_accuracy: 0.8055\n",
            "Epoch 125/1024\n",
            "31/31 [==============================] - ETA: 0s - loss: 0.4345 - accuracy: 0.8416\n",
            "Epoch 125: val_loss did not improve from 0.54367\n",
            "31/31 [==============================] - 14s 409ms/step - loss: 0.4345 - accuracy: 0.8416 - val_loss: 0.6229 - val_accuracy: 0.7877\n",
            "Epoch 126/1024\n",
            "31/31 [==============================] - ETA: 0s - loss: 0.4415 - accuracy: 0.8397\n",
            "Epoch 126: val_loss did not improve from 0.54367\n",
            "31/31 [==============================] - 14s 414ms/step - loss: 0.4415 - accuracy: 0.8397 - val_loss: 0.5693 - val_accuracy: 0.8071\n",
            "Epoch 127/1024\n",
            "31/31 [==============================] - ETA: 0s - loss: 0.4444 - accuracy: 0.8354\n",
            "Epoch 127: val_loss did not improve from 0.54367\n",
            "31/31 [==============================] - 14s 416ms/step - loss: 0.4444 - accuracy: 0.8354 - val_loss: 0.6142 - val_accuracy: 0.7908\n",
            "Epoch 128/1024\n",
            "31/31 [==============================] - ETA: 0s - loss: 0.4391 - accuracy: 0.8412\n",
            "Epoch 128: val_loss did not improve from 0.54367\n",
            "31/31 [==============================] - 14s 411ms/step - loss: 0.4391 - accuracy: 0.8412 - val_loss: 0.5957 - val_accuracy: 0.8006\n",
            "Epoch 129/1024\n",
            "31/31 [==============================] - ETA: 0s - loss: 0.4193 - accuracy: 0.8475\n",
            "Epoch 129: val_loss did not improve from 0.54367\n",
            "31/31 [==============================] - 15s 464ms/step - loss: 0.4193 - accuracy: 0.8475 - val_loss: 0.6281 - val_accuracy: 0.7926\n",
            "Epoch 130/1024\n",
            "31/31 [==============================] - ETA: 0s - loss: 0.4175 - accuracy: 0.8469\n",
            "Epoch 130: val_loss did not improve from 0.54367\n",
            "31/31 [==============================] - 14s 408ms/step - loss: 0.4175 - accuracy: 0.8469 - val_loss: 0.6382 - val_accuracy: 0.7865\n",
            "Epoch 131/1024\n",
            "31/31 [==============================] - ETA: 0s - loss: 0.3973 - accuracy: 0.8585\n",
            "Epoch 131: val_loss did not improve from 0.54367\n",
            "31/31 [==============================] - 14s 415ms/step - loss: 0.3973 - accuracy: 0.8585 - val_loss: 0.5838 - val_accuracy: 0.8176\n",
            "Epoch 132/1024\n",
            "31/31 [==============================] - ETA: 0s - loss: 0.4021 - accuracy: 0.8532\n",
            "Epoch 132: val_loss did not improve from 0.54367\n",
            "31/31 [==============================] - 14s 418ms/step - loss: 0.4021 - accuracy: 0.8532 - val_loss: 0.5888 - val_accuracy: 0.8001\n",
            "Epoch 133/1024\n",
            "31/31 [==============================] - ETA: 0s - loss: 0.4041 - accuracy: 0.8548\n",
            "Epoch 133: val_loss did not improve from 0.54367\n",
            "31/31 [==============================] - 13s 410ms/step - loss: 0.4041 - accuracy: 0.8548 - val_loss: 0.5518 - val_accuracy: 0.8091\n",
            "Epoch 134/1024\n",
            "31/31 [==============================] - ETA: 0s - loss: 0.4177 - accuracy: 0.8525\n",
            "Epoch 134: val_loss did not improve from 0.54367\n",
            "31/31 [==============================] - 14s 420ms/step - loss: 0.4177 - accuracy: 0.8525 - val_loss: 0.5938 - val_accuracy: 0.8055\n",
            "Epoch 135/1024\n",
            "31/31 [==============================] - ETA: 0s - loss: 0.3981 - accuracy: 0.8533\n",
            "Epoch 135: val_loss did not improve from 0.54367\n",
            "31/31 [==============================] - 14s 411ms/step - loss: 0.3981 - accuracy: 0.8533 - val_loss: 0.6262 - val_accuracy: 0.7929\n",
            "Epoch 136/1024\n",
            "31/31 [==============================] - ETA: 0s - loss: 0.4127 - accuracy: 0.8533\n",
            "Epoch 136: val_loss improved from 0.54367 to 0.53276, saving model to vgg13_4.h5\n",
            "31/31 [==============================] - 15s 446ms/step - loss: 0.4127 - accuracy: 0.8533 - val_loss: 0.5328 - val_accuracy: 0.8158\n",
            "Epoch 137/1024\n",
            "31/31 [==============================] - ETA: 0s - loss: 0.4142 - accuracy: 0.8465\n",
            "Epoch 137: val_loss did not improve from 0.53276\n",
            "31/31 [==============================] - 15s 428ms/step - loss: 0.4142 - accuracy: 0.8465 - val_loss: 0.5742 - val_accuracy: 0.8065\n",
            "Epoch 138/1024\n",
            "31/31 [==============================] - ETA: 0s - loss: 0.3956 - accuracy: 0.8578\n",
            "Epoch 138: val_loss did not improve from 0.53276\n",
            "31/31 [==============================] - 14s 411ms/step - loss: 0.3956 - accuracy: 0.8578 - val_loss: 0.5662 - val_accuracy: 0.8083\n",
            "Epoch 139/1024\n",
            "31/31 [==============================] - ETA: 0s - loss: 0.3767 - accuracy: 0.8620\n",
            "Epoch 139: val_loss did not improve from 0.53276\n",
            "31/31 [==============================] - 14s 415ms/step - loss: 0.3767 - accuracy: 0.8620 - val_loss: 0.5721 - val_accuracy: 0.8145\n",
            "Epoch 140/1024\n",
            "31/31 [==============================] - ETA: 0s - loss: 0.3732 - accuracy: 0.8632\n",
            "Epoch 140: val_loss did not improve from 0.53276\n",
            "31/31 [==============================] - 14s 413ms/step - loss: 0.3732 - accuracy: 0.8632 - val_loss: 0.6131 - val_accuracy: 0.7947\n",
            "Epoch 141/1024\n",
            "31/31 [==============================] - ETA: 0s - loss: 0.3922 - accuracy: 0.8569\n",
            "Epoch 141: val_loss did not improve from 0.53276\n",
            "31/31 [==============================] - 14s 410ms/step - loss: 0.3922 - accuracy: 0.8569 - val_loss: 0.5980 - val_accuracy: 0.8040\n",
            "Epoch 142/1024\n",
            "31/31 [==============================] - ETA: 0s - loss: 0.3893 - accuracy: 0.8621\n",
            "Epoch 142: val_loss did not improve from 0.53276\n",
            "31/31 [==============================] - 14s 415ms/step - loss: 0.3893 - accuracy: 0.8621 - val_loss: 0.5863 - val_accuracy: 0.8014\n",
            "Epoch 143/1024\n",
            "31/31 [==============================] - ETA: 0s - loss: 0.3835 - accuracy: 0.8618\n",
            "Epoch 143: val_loss did not improve from 0.53276\n",
            "31/31 [==============================] - 14s 411ms/step - loss: 0.3835 - accuracy: 0.8618 - val_loss: 0.5976 - val_accuracy: 0.7952\n",
            "Epoch 144/1024\n",
            "31/31 [==============================] - ETA: 0s - loss: 0.3901 - accuracy: 0.8581\n",
            "Epoch 144: val_loss did not improve from 0.53276\n",
            "31/31 [==============================] - 14s 411ms/step - loss: 0.3901 - accuracy: 0.8581 - val_loss: 0.5716 - val_accuracy: 0.8130\n",
            "Epoch 145/1024\n",
            "31/31 [==============================] - ETA: 0s - loss: 0.3751 - accuracy: 0.8648\n",
            "Epoch 145: val_loss did not improve from 0.53276\n",
            "31/31 [==============================] - 14s 411ms/step - loss: 0.3751 - accuracy: 0.8648 - val_loss: 0.5651 - val_accuracy: 0.8011\n",
            "Epoch 146/1024\n",
            "31/31 [==============================] - ETA: 0s - loss: 0.3726 - accuracy: 0.8630\n",
            "Epoch 146: val_loss did not improve from 0.53276\n",
            "31/31 [==============================] - 14s 409ms/step - loss: 0.3726 - accuracy: 0.8630 - val_loss: 0.5744 - val_accuracy: 0.8107\n",
            "Epoch 147/1024\n",
            "31/31 [==============================] - ETA: 0s - loss: 0.3764 - accuracy: 0.8640\n",
            "Epoch 147: val_loss did not improve from 0.53276\n",
            "31/31 [==============================] - 14s 417ms/step - loss: 0.3764 - accuracy: 0.8640 - val_loss: 0.5722 - val_accuracy: 0.8076\n",
            "Epoch 148/1024\n",
            "31/31 [==============================] - ETA: 0s - loss: 0.3780 - accuracy: 0.8623\n",
            "Epoch 148: val_loss did not improve from 0.53276\n",
            "31/31 [==============================] - 14s 415ms/step - loss: 0.3780 - accuracy: 0.8623 - val_loss: 0.6483 - val_accuracy: 0.7916\n",
            "Epoch 149/1024\n",
            "31/31 [==============================] - ETA: 0s - loss: 0.3757 - accuracy: 0.8622\n",
            "Epoch 149: val_loss did not improve from 0.53276\n",
            "31/31 [==============================] - 14s 423ms/step - loss: 0.3757 - accuracy: 0.8622 - val_loss: 0.5702 - val_accuracy: 0.8045\n",
            "Epoch 150/1024\n",
            "31/31 [==============================] - ETA: 0s - loss: 0.3619 - accuracy: 0.8672\n",
            "Epoch 150: val_loss did not improve from 0.53276\n",
            "31/31 [==============================] - 14s 419ms/step - loss: 0.3619 - accuracy: 0.8672 - val_loss: 0.5536 - val_accuracy: 0.8158\n",
            "Epoch 151/1024\n",
            "31/31 [==============================] - ETA: 0s - loss: 0.3452 - accuracy: 0.8729\n",
            "Epoch 151: val_loss did not improve from 0.53276\n",
            "31/31 [==============================] - 14s 415ms/step - loss: 0.3452 - accuracy: 0.8729 - val_loss: 0.5490 - val_accuracy: 0.8217\n",
            "Epoch 152/1024\n",
            "31/31 [==============================] - ETA: 0s - loss: 0.3573 - accuracy: 0.8697\n",
            "Epoch 152: val_loss did not improve from 0.53276\n",
            "31/31 [==============================] - 14s 415ms/step - loss: 0.3573 - accuracy: 0.8697 - val_loss: 0.5764 - val_accuracy: 0.8122\n",
            "Epoch 153/1024\n",
            "31/31 [==============================] - ETA: 0s - loss: 0.3650 - accuracy: 0.8701\n",
            "Epoch 153: val_loss did not improve from 0.53276\n",
            "31/31 [==============================] - 14s 414ms/step - loss: 0.3650 - accuracy: 0.8701 - val_loss: 0.5619 - val_accuracy: 0.8194\n",
            "Epoch 154/1024\n",
            "31/31 [==============================] - ETA: 0s - loss: 0.3648 - accuracy: 0.8676\n",
            "Epoch 154: val_loss did not improve from 0.53276\n",
            "31/31 [==============================] - 14s 422ms/step - loss: 0.3648 - accuracy: 0.8676 - val_loss: 0.5382 - val_accuracy: 0.8264\n",
            "Epoch 155/1024\n",
            "31/31 [==============================] - ETA: 0s - loss: 0.3554 - accuracy: 0.8738\n",
            "Epoch 155: val_loss did not improve from 0.53276\n",
            "31/31 [==============================] - 14s 412ms/step - loss: 0.3554 - accuracy: 0.8738 - val_loss: 0.5998 - val_accuracy: 0.8035\n",
            "Epoch 156/1024\n",
            "31/31 [==============================] - ETA: 0s - loss: 0.3548 - accuracy: 0.8717\n",
            "Epoch 156: val_loss did not improve from 0.53276\n",
            "Restoring model weights from the end of the best epoch: 136.\n",
            "31/31 [==============================] - 14s 418ms/step - loss: 0.3548 - accuracy: 0.8717 - val_loss: 0.6288 - val_accuracy: 0.7991\n",
            "Epoch 156: early stopping\n"
          ]
        }
      ],
      "source": [
        "history = model.fit(\n",
        "    train_dataset,\n",
        "    epochs=epochs,\n",
        "    batch_size=batch_size,\n",
        "    validation_data=val_dataset,\n",
        "    callbacks=[checkpoint, early],\n",
        "    use_multiprocessing=True,\n",
        "    workers=2,\n",
        ")"
      ]
    },
    {
      "cell_type": "markdown",
      "metadata": {
        "id": "M5im07My2Wmz"
      },
      "source": [
        "## Let's visualize the results"
      ]
    },
    {
      "cell_type": "markdown",
      "metadata": {
        "id": "ajm1Jl532pIs"
      },
      "source": [
        "### Plot loss"
      ]
    },
    {
      "cell_type": "code",
      "execution_count": 22,
      "metadata": {
        "colab": {
          "base_uri": "https://localhost:8080/",
          "height": 472
        },
        "id": "-iiANgUa2rhF",
        "outputId": "273d5f14-dde1-4ed3-fd82-0746782aea6f"
      },
      "outputs": [
        {
          "data": {
            "image/png": "[encoded data removed]",
            "text/plain": [
              "<Figure size 640x480 with 1 Axes>"
            ]
          },
          "metadata": {},
          "output_type": "display_data"
        }
      ],
      "source": [
        "plt.plot(history.history['loss'], label='train_loss')\n",
        "plt.plot(history.history['val_loss'], label='val_loss')\n",
        "plt.title(\"Model Loss\")\n",
        "plt.ylabel(\"Loss\")\n",
        "plt.xlabel(\"Epoch\")\n",
        "plt.legend()\n",
        "plt.show()"
      ]
    },
    {
      "cell_type": "markdown",
      "metadata": {
        "id": "cS9HgJ1w2lpW"
      },
      "source": [
        "### Plot accuracy"
      ]
    },
    {
      "cell_type": "code",
      "execution_count": 23,
      "metadata": {
        "colab": {
          "base_uri": "https://localhost:8080/",
          "height": 472
        },
        "id": "4PW1Dk5zf5sI",
        "outputId": "82293a9f-4295-474c-c5d8-66d6aa7de80c"
      },
      "outputs": [
        {
          "data": {
            "image/png": "[encoded data removed]",
            "text/plain": [
              "<Figure size 640x480 with 1 Axes>"
            ]
          },
          "metadata": {},
          "output_type": "display_data"
        }
      ],
      "source": [
        "plt.plot(history.history[\"accuracy\"], label='train_acc')\n",
        "plt.plot(history.history['val_accuracy'], label='val_acc')\n",
        "plt.title(\"Model accuracy\")\n",
        "plt.ylabel(\"Accuracy\")\n",
        "plt.xlabel(\"Epoch\")\n",
        "plt.legend()\n",
        "plt.show()"
      ]
    },
    {
      "cell_type": "markdown",
      "metadata": {
        "id": "ugcCbGSm20q3"
      },
      "source": [
        "## Evaluate Test dataset"
      ]
    },
    {
      "cell_type": "code",
      "execution_count": 24,
      "metadata": {
        "colab": {
          "base_uri": "https://localhost:8080/"
        },
        "id": "JuDp71Y224Rt",
        "outputId": "85abb8bd-0990-462a-bb5b-28dd011a296d"
      },
      "outputs": [
        {
          "name": "stdout",
          "output_type": "stream",
          "text": [
            "28/28 [==============================] - 9s 194ms/step - loss: 0.9434 - accuracy: 0.7143\n"
          ]
        },
        {
          "data": {
            "text/plain": [
              "[0.9434304237365723, 0.7142657041549683]"
            ]
          },
          "execution_count": 24,
          "metadata": {},
          "output_type": "execute_result"
        }
      ],
      "source": [
        "model.evaluate(\n",
        "    test_dataset,\n",
        "    batch_size=batch_size,\n",
        "    use_multiprocessing=True,\n",
        "    workers=2,\n",
        ")"
      ]
    }
  ],
  "metadata": {
    "accelerator": "GPU",
    "colab": {
      "provenance": []
    },
    "gpuClass": "standard",
    "kernelspec": {
      "display_name": "Python 3",
      "name": "python3"
    },
    "language_info": {
      "name": "python"
    }
  },
  "nbformat": 4,
  "nbformat_minor": 0
}
